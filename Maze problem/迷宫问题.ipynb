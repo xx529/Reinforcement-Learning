{
 "cells": [
  {
   "cell_type": "markdown",
   "metadata": {},
   "source": [
    "# 迷宫问题"
   ]
  },
  {
   "cell_type": "markdown",
   "metadata": {},
   "source": [
    "![jupyter](./图片1.png)"
   ]
  },
  {
   "cell_type": "markdown",
   "metadata": {},
   "source": [
    "$$Q(S_t,A_t)=Q(S_t, A_t)+\\alpha[R_{t+1}+\\gamma(max_aQ(S_{t+1}, a))-Q(S_t, A_t)]$$\n",
    "$$Q(S_t,A_t)=R_{t+1}+\\gamma(max_aQ(S_{t+1}, a))$$"
   ]
  },
  {
   "cell_type": "markdown",
   "metadata": {},
   "source": [
    "如果$\\alpha=1$：代表当前状态s的最大将来奖励等于下一状态 s' 的最大将来奖励乘以折扣因子"
   ]
  },
  {
   "cell_type": "code",
   "execution_count": 3,
   "metadata": {},
   "outputs": [],
   "source": [
    "import numpy as np"
   ]
  },
  {
   "cell_type": "code",
   "execution_count": 32,
   "metadata": {},
   "outputs": [
    {
     "data": {
      "text/plain": [
       "array([[ 0. ,  0. ,  0. ,  0. , 16.7,  0. ],\n",
       "       [ 0. ,  0. ,  0. ,  8.3,  0. , 33.3],\n",
       "       [ 0. ,  0. ,  0. ,  8.3,  0. ,  0. ],\n",
       "       [ 0. , 16.7,  4.2,  0. , 16.7,  0. ],\n",
       "       [ 8.3,  0. ,  0. ,  8.3,  0. , 33.3],\n",
       "       [ 0. , 16.7,  0. ,  0. , 16.7, 33.3]])"
      ]
     },
     "execution_count": 32,
     "metadata": {},
     "output_type": "execute_result"
    }
   ],
   "source": [
    "# R 矩阵 (奖励矩阵)\n",
    "R = np.array([\n",
    "    [-1, -1, -1, -1, 0, -1],#0\n",
    "    [-1, -1, -1, 0, -1, 100],#1\n",
    "    [-1, -1, -1, 0, -1, -1],#2\n",
    "    [-1, 0, 0, -1, 0, -1],#3\n",
    "    [0, -1, -1, 0, -1, 100],#4\n",
    "    [-1, 0, -1, -1, 0, 100],#5\n",
    "])\n",
    "\n",
    "# Q 矩阵（价值矩阵）\n",
    "Q = np.zeros(shape=R.shape)\n",
    "\n",
    "# gammar\n",
    "gammar = 0.5\n",
    "alpha = 0.5\n",
    "\n",
    "def get_max_Q(Q, state):\n",
    "    return max(Q[state,:])\n",
    "\n",
    "for epoch in range(1000):\n",
    "    for i in range(len(R)):\n",
    "        for j in range(len(Q[i])):\n",
    "            if R[i][j] == -1:\n",
    "                continue\n",
    "            Q[i][j] = Q[i][j] + alpha*(R[i][j] + gammar*get_max_Q(Q, j) - Q[i][j])\n",
    "\n",
    "np.round(Q/6,1)"
   ]
  },
  {
   "cell_type": "code",
   "execution_count": 36,
   "metadata": {},
   "outputs": [
    {
     "data": {
      "text/plain": [
       "4.300000000000002"
      ]
     },
     "execution_count": 36,
     "metadata": {},
     "output_type": "execute_result"
    }
   ],
   "source": [
    "-2 +(-2)*0.9+10*0.81"
   ]
  },
  {
   "cell_type": "code",
   "execution_count": 46,
   "metadata": {},
   "outputs": [
    {
     "data": {
      "text/plain": [
       "-12.75"
      ]
     },
     "execution_count": 46,
     "metadata": {},
     "output_type": "execute_result"
    }
   ],
   "source": [
    "9-2+0.5*1.5+(-0.5)*23"
   ]
  },
  {
   "cell_type": "code",
   "execution_count": 60,
   "metadata": {},
   "outputs": [
    {
     "data": {
      "text/plain": [
       "1.7000000000000002"
      ]
     },
     "execution_count": 60,
     "metadata": {},
     "output_type": "execute_result"
    }
   ],
   "source": [
    "0.5*(-2 + 7.4) + 0.5*(-2 + 0)"
   ]
  },
  {
   "cell_type": "code",
   "execution_count": 61,
   "metadata": {},
   "outputs": [
    {
     "data": {
      "text/plain": [
       "-2.8"
      ]
     },
     "execution_count": 61,
     "metadata": {},
     "output_type": "execute_result"
    }
   ],
   "source": [
    "(-1+ -2.3)*0.5 + 0.5*(-1-1.3)"
   ]
  },
  {
   "cell_type": "code",
   "execution_count": 66,
   "metadata": {},
   "outputs": [
    {
     "data": {
      "text/plain": [
       "-1.2999999999999998"
      ]
     },
     "execution_count": 66,
     "metadata": {},
     "output_type": "execute_result"
    }
   ],
   "source": [
    "(-2+2.7)*0.5 + (-1-2.3)*0.5"
   ]
  },
  {
   "cell_type": "code",
   "execution_count": 67,
   "metadata": {},
   "outputs": [
    {
     "data": {
      "text/plain": [
       "2.7"
      ]
     },
     "execution_count": 67,
     "metadata": {},
     "output_type": "execute_result"
    }
   ],
   "source": [
    "(-2+7.4)*0.5"
   ]
  },
  {
   "cell_type": "code",
   "execution_count": 68,
   "metadata": {},
   "outputs": [
    {
     "data": {
      "text/plain": [
       "-2.3"
      ]
     },
     "execution_count": 68,
     "metadata": {},
     "output_type": "execute_result"
    }
   ],
   "source": [
    "(-1-2.3)*0.5 + 0.5*(0-1.3)"
   ]
  },
  {
   "cell_type": "code",
   "execution_count": null,
   "metadata": {},
   "outputs": [],
   "source": []
  }
 ],
 "metadata": {
  "kernelspec": {
   "display_name": "Python 3",
   "language": "python",
   "name": "python3"
  },
  "language_info": {
   "codemirror_mode": {
    "name": "ipython",
    "version": 3
   },
   "file_extension": ".py",
   "mimetype": "text/x-python",
   "name": "python",
   "nbconvert_exporter": "python",
   "pygments_lexer": "ipython3",
   "version": "3.7.6"
  }
 },
 "nbformat": 4,
 "nbformat_minor": 4
}
