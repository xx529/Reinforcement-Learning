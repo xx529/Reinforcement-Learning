{
 "cells": [
  {
   "cell_type": "markdown",
   "metadata": {},
   "source": [
    "# CartPole\n",
    "\n",
    "1. DQN (double)\n",
    "2. Q-Learning\n",
    "3. memory replay\n",
    "\n",
    "![jupyter](./pole.png)"
   ]
  },
  {
   "cell_type": "code",
   "execution_count": 193,
   "metadata": {},
   "outputs": [],
   "source": [
    "import gym\n",
    "import matplotlib.pyplot as plt\n",
    "import random\n",
    "import torch.nn as nn\n",
    "import torch\n",
    "import copy\n",
    "import numpy as np\n",
    "import torch.optim as optimizer\n",
    "from IPython import display\n",
    "import time"
   ]
  },
  {
   "cell_type": "markdown",
   "metadata": {},
   "source": [
    "## Memory Replay"
   ]
  },
  {
   "cell_type": "code",
   "execution_count": 194,
   "metadata": {},
   "outputs": [],
   "source": [
    "class MemoryReplay():\n",
    "    def __init__(self, memory_size):\n",
    "        self.queue = []\n",
    "        self.memory_size = memory_size\n",
    "        \n",
    "    def add(self, mc_sample_tuple):\n",
    "        if len(self.queue) >= self.memory_size:\n",
    "            self.queue.pop(0)\n",
    "        self.queue.append(mc_sample_tuple)\n",
    "    \n",
    "    def sample(self, batch_size):\n",
    "        if batch_size > len(self.queue):\n",
    "            return self.queue\n",
    "        else:\n",
    "            return random.sample(self.queue, batch_size)\n",
    "        \n",
    "    def __len__(self):\n",
    "        return len(self.queue)"
   ]
  },
  {
   "cell_type": "markdown",
   "metadata": {},
   "source": [
    "## DQN"
   ]
  },
  {
   "cell_type": "code",
   "execution_count": 218,
   "metadata": {},
   "outputs": [],
   "source": [
    "class DQN(nn.Module):\n",
    "    def __init__(self):\n",
    "        super(DQN, self).__init__()\n",
    "        self.fc1 = nn.Linear(5, 64)  # [position, velocity, action]\n",
    "        self.fc2 = nn.Linear(64, 32)\n",
    "        self.out = nn.Linear(32, 1)\n",
    "        self.relu = nn.ReLU()\n",
    "\n",
    "        \n",
    "    def forward(self, x):\n",
    "        x = self.fc1(x)\n",
    "        x = self.relu(x)\n",
    "        x = self.fc2(x)\n",
    "        x = self.relu(x)\n",
    "        return self.out(x)   "
   ]
  },
  {
   "cell_type": "markdown",
   "metadata": {},
   "source": [
    "## Agent"
   ]
  },
  {
   "cell_type": "code",
   "execution_count": 196,
   "metadata": {},
   "outputs": [],
   "source": [
    "class Agent():\n",
    "    def __init__(self, DQN_value_net, DQN_target_net, update_per_epoch):\n",
    "        self.target_net = DQN_target_net\n",
    "        self.value_net = DQN_value_net\n",
    "        self.loss_function = nn.MSELoss()\n",
    "        self.optimizer = optimizer.Adam(self.value_net.parameters())\n",
    "        \n",
    "        self.action = np.array([0, 1])\n",
    "        self.update_per_epoch = update_per_epoch\n",
    "        self.count = 0\n",
    "    \n",
    "    \n",
    "    def step(self, state_array, e_threshold, net='value', strategy='egreedy'):\n",
    "        if strategy == 'egreedy':\n",
    "            if random.random() > e_threshold:\n",
    "                action = self.get_max_action(net, state_array)\n",
    "            else:\n",
    "                action = np.random.choice(self.action)\n",
    "\n",
    "        elif strategy == 'max':\n",
    "            action = self.get_max_action(net, state_array)\n",
    "\n",
    "        return action\n",
    "    \n",
    "    \n",
    "    def get_actions(self, net, state_array):\n",
    "        \n",
    "        # 构造数据\n",
    "        data_batch = torch.Tensor([np.r_[state_array, x] for x in self.action])\n",
    "        \n",
    "        if net == 'value':\n",
    "            actions = self.value_net(data_batch).squeeze()\n",
    "        if net == 'target':\n",
    "            actions = self.target_net(data_batch).squeeze()\n",
    "            \n",
    "        return actions\n",
    "        \n",
    "        \n",
    "    def get_max_action(self, net, state_array):\n",
    "        max_action = self.get_actions(net, state_array).topk(1)[1].item()\n",
    "        return max_action\n",
    "        \n",
    "        \n",
    "    def learn(self, data_batch, gamma):\n",
    "        \n",
    "        # features & label 构造\n",
    "        x, y_true = self.creat_features_labels(data_batch, gamma)\n",
    "        \n",
    "        # 清空梯度\n",
    "        self.optimizer.zero_grad()\n",
    "        \n",
    "        # 训练\n",
    "        y_pre = self.value_net(x)\n",
    "        loss = self.loss_function(y_pre, y_true)\n",
    "        loss.backward()\n",
    "\n",
    "        \n",
    "        # 达到固定次数更新 target_net\n",
    "        self.count += 1\n",
    "        if self.count > self.update_per_epoch:\n",
    "            self.update_target_net\n",
    "        \n",
    "        return loss.item()\n",
    "        \n",
    "        \n",
    "    def creat_features_labels(self, data_batch, gamma):\n",
    "        x = []\n",
    "        y = []\n",
    "        \n",
    "        for data in data_batch:\n",
    "            # x 构造\n",
    "            x.append(np.r_[data[0], data[1]])\n",
    "            \n",
    "            # y 构造\n",
    "            if  data[4]:  # done\n",
    "                y.append(data[2])\n",
    "            else:\n",
    "                max_action_value = self.get_actions('target', data[3]).topk(1)[0].item()\n",
    "                y.append(data[2] + gamma * max_action_value)\n",
    "        \n",
    "        return torch.Tensor(x), torch.Tensor(y).view(-1, 1)\n",
    "        \n",
    "    \n",
    "    def update_target_net(self):\n",
    "        self.target_net = copy.deepcopy(self.value_net).eval()\n",
    "        self.count = 0"
   ]
  },
  {
   "cell_type": "markdown",
   "metadata": {},
   "source": [
    "## Setting"
   ]
  },
  {
   "cell_type": "code",
   "execution_count": 197,
   "metadata": {},
   "outputs": [],
   "source": [
    "# Envirement\n",
    "envirement = gym.make('CartPole-v0')\n",
    "\n",
    "# Replay\n",
    "MEMORY_SIZE = 3000\n",
    "replay = MemoryReplay(MEMORY_SIZE)\n",
    "\n",
    "# DQN\n",
    "model_value = DQN()\n",
    "model_target = DQN()\n",
    "\n",
    "# Agent\n",
    "UPDATE_PER_EPOCH = 128\n",
    "agent = Agent(model_value, model_target, UPDATE_PER_EPOCH)\n",
    "\n",
    "# Others\n",
    "E_THRESHOLD = 0.3\n",
    "BATCH_SIZE = 1024\n",
    "GAMMA = 0.8"
   ]
  },
  {
   "cell_type": "markdown",
   "metadata": {},
   "source": [
    "## RL Training"
   ]
  },
  {
   "cell_type": "code",
   "execution_count": 198,
   "metadata": {
    "scrolled": false
   },
   "outputs": [
    {
     "name": "stdout",
     "output_type": "stream",
     "text": [
      "epoch: 1,  loss: 1.10881,  reward: 9.0,  second: 0.0\n",
      "epoch: 2,  loss: 1.116362,  reward: 9.0,  second: 0.1\n",
      "epoch: 3,  loss: 1.119636,  reward: 11.0,  second: 0.1\n",
      "epoch: 4,  loss: 1.121568,  reward: 9.0,  second: 0.1\n",
      "epoch: 5,  loss: 1.1198,  reward: 13.0,  second: 0.2\n",
      "epoch: 6,  loss: 1.119801,  reward: 9.0,  second: 0.2\n",
      "epoch: 7,  loss: 1.119169,  reward: 11.0,  second: 0.3\n",
      "epoch: 8,  loss: 1.117698,  reward: 16.0,  second: 0.4\n",
      "epoch: 9,  loss: 1.117392,  reward: 13.0,  second: 0.4\n",
      "epoch: 10,  loss: 1.117437,  reward: 11.0,  second: 0.5\n",
      "epoch: 11,  loss: 1.11723,  reward: 11.0,  second: 0.6\n",
      "epoch: 12,  loss: 1.117396,  reward: 11.0,  second: 0.6\n",
      "epoch: 13,  loss: 1.117719,  reward: 14.0,  second: 0.9\n",
      "epoch: 14,  loss: 1.117361,  reward: 13.0,  second: 0.9\n",
      "epoch: 15,  loss: 1.116918,  reward: 12.0,  second: 0.7\n",
      "epoch: 16,  loss: 1.117209,  reward: 9.0,  second: 0.5\n",
      "epoch: 17,  loss: 1.116997,  reward: 10.0,  second: 0.6\n",
      "epoch: 18,  loss: 1.116641,  reward: 12.0,  second: 0.8\n",
      "epoch: 19,  loss: 1.116565,  reward: 11.0,  second: 0.8\n",
      "epoch: 20,  loss: 1.116435,  reward: 12.0,  second: 1.2\n",
      "epoch: 21,  loss: 1.116866,  reward: 11.0,  second: 1.1\n",
      "epoch: 22,  loss: 1.117255,  reward: 11.0,  second: 0.9\n",
      "epoch: 23,  loss: 1.117023,  reward: 15.0,  second: 1.7\n",
      "epoch: 24,  loss: 1.116981,  reward: 13.0,  second: 1.4\n",
      "epoch: 25,  loss: 1.117043,  reward: 9.0,  second: 1.1\n",
      "epoch: 26,  loss: 1.116993,  reward: 11.0,  second: 1.3\n",
      "epoch: 27,  loss: 1.11675,  reward: 15.0,  second: 2.0\n",
      "epoch: 28,  loss: 1.116699,  reward: 13.0,  second: 1.7\n",
      "epoch: 29,  loss: 1.116844,  reward: 11.0,  second: 1.6\n",
      "epoch: 30,  loss: 1.116686,  reward: 13.0,  second: 2.0\n",
      "epoch: 31,  loss: 1.116578,  reward: 12.0,  second: 1.9\n",
      "epoch: 32,  loss: 1.116778,  reward: 11.0,  second: 1.7\n",
      "epoch: 33,  loss: 1.116764,  reward: 12.0,  second: 2.0\n",
      "epoch: 34,  loss: 1.116832,  reward: 9.0,  second: 1.5\n",
      "epoch: 35,  loss: 1.116964,  reward: 11.0,  second: 1.5\n",
      "epoch: 36,  loss: 1.117019,  reward: 12.0,  second: 2.1\n",
      "epoch: 37,  loss: 1.117039,  reward: 9.0,  second: 1.3\n",
      "epoch: 38,  loss: 1.117154,  reward: 10.0,  second: 1.5\n",
      "epoch: 39,  loss: 1.117361,  reward: 10.0,  second: 1.7\n",
      "epoch: 40,  loss: 1.117435,  reward: 10.0,  second: 1.9\n",
      "epoch: 41,  loss: 1.117464,  reward: 10.0,  second: 1.9\n",
      "epoch: 42,  loss: 1.117468,  reward: 10.0,  second: 1.5\n",
      "epoch: 43,  loss: 1.117557,  reward: 10.0,  second: 1.9\n",
      "epoch: 44,  loss: 1.117736,  reward: 11.0,  second: 2.2\n",
      "epoch: 45,  loss: 1.11776,  reward: 13.0,  second: 2.7\n",
      "epoch: 46,  loss: 1.11768,  reward: 13.0,  second: 2.4\n",
      "epoch: 47,  loss: 1.117803,  reward: 17.0,  second: 3.3\n",
      "epoch: 48,  loss: 1.117759,  reward: 15.0,  second: 3.4\n",
      "epoch: 49,  loss: 1.117751,  reward: 11.0,  second: 2.5\n",
      "epoch: 50,  loss: 1.117638,  reward: 12.0,  second: 2.3\n",
      "epoch: 51,  loss: 1.117647,  reward: 10.0,  second: 2.4\n",
      "epoch: 52,  loss: 1.117649,  reward: 12.0,  second: 2.9\n",
      "epoch: 53,  loss: 1.117604,  reward: 9.0,  second: 2.2\n",
      "epoch: 54,  loss: 1.11761,  reward: 11.0,  second: 2.7\n",
      "epoch: 55,  loss: 1.117654,  reward: 12.0,  second: 2.7\n",
      "epoch: 56,  loss: 1.117764,  reward: 9.0,  second: 2.0\n",
      "epoch: 57,  loss: 1.11778,  reward: 12.0,  second: 2.9\n",
      "epoch: 58,  loss: 1.117904,  reward: 17.0,  second: 4.0\n",
      "epoch: 59,  loss: 1.117856,  reward: 14.0,  second: 3.7\n",
      "epoch: 60,  loss: 1.117833,  reward: 9.0,  second: 2.3\n",
      "epoch: 61,  loss: 1.117874,  reward: 10.0,  second: 2.2\n",
      "epoch: 62,  loss: 1.11784,  reward: 13.0,  second: 3.6\n",
      "epoch: 63,  loss: 1.117722,  reward: 8.0,  second: 2.2\n",
      "epoch: 64,  loss: 1.117693,  reward: 8.0,  second: 1.8\n",
      "epoch: 65,  loss: 1.117613,  reward: 10.0,  second: 2.3\n",
      "epoch: 66,  loss: 1.117581,  reward: 8.0,  second: 1.9\n",
      "epoch: 67,  loss: 1.117554,  reward: 8.0,  second: 1.9\n",
      "epoch: 68,  loss: 1.117591,  reward: 11.0,  second: 2.6\n",
      "epoch: 69,  loss: 1.117653,  reward: 12.0,  second: 2.9\n",
      "epoch: 70,  loss: 1.117602,  reward: 13.0,  second: 3.2\n",
      "epoch: 71,  loss: 1.117562,  reward: 9.0,  second: 2.3\n",
      "epoch: 72,  loss: 1.117564,  reward: 10.0,  second: 2.5\n",
      "epoch: 73,  loss: 1.11755,  reward: 12.0,  second: 3.7\n",
      "epoch: 74,  loss: 1.117605,  reward: 9.0,  second: 2.4\n",
      "epoch: 75,  loss: 1.117535,  reward: 14.0,  second: 3.7\n",
      "epoch: 76,  loss: 1.117504,  reward: 11.0,  second: 2.9\n",
      "epoch: 77,  loss: 1.117529,  reward: 9.0,  second: 2.4\n",
      "epoch: 78,  loss: 1.117588,  reward: 12.0,  second: 3.3\n",
      "epoch: 79,  loss: 1.117685,  reward: 10.0,  second: 2.8\n",
      "epoch: 80,  loss: 1.117683,  reward: 12.0,  second: 3.4\n",
      "epoch: 81,  loss: 1.11767,  reward: 10.0,  second: 2.8\n",
      "epoch: 82,  loss: 1.117685,  reward: 16.0,  second: 4.6\n",
      "epoch: 83,  loss: 1.117784,  reward: 12.0,  second: 3.5\n",
      "epoch: 84,  loss: 1.117744,  reward: 18.0,  second: 5.4\n",
      "epoch: 85,  loss: 1.117732,  reward: 9.0,  second: 2.8\n",
      "epoch: 86,  loss: 1.117764,  reward: 10.0,  second: 3.1\n",
      "epoch: 87,  loss: 1.117733,  reward: 14.0,  second: 4.4\n",
      "epoch: 88,  loss: 1.117783,  reward: 10.0,  second: 3.1\n",
      "epoch: 89,  loss: 1.117831,  reward: 9.0,  second: 2.8\n",
      "epoch: 90,  loss: 1.117778,  reward: 10.0,  second: 3.7\n",
      "epoch: 91,  loss: 1.11776,  reward: 10.0,  second: 3.7\n",
      "epoch: 92,  loss: 1.117756,  reward: 9.0,  second: 3.3\n",
      "epoch: 93,  loss: 1.117759,  reward: 13.0,  second: 4.2\n",
      "epoch: 94,  loss: 1.117634,  reward: 17.0,  second: 5.5\n",
      "epoch: 95,  loss: 1.117713,  reward: 10.0,  second: 3.3\n",
      "epoch: 96,  loss: 1.117821,  reward: 11.0,  second: 4.1\n",
      "epoch: 97,  loss: 1.117866,  reward: 15.0,  second: 5.6\n",
      "epoch: 98,  loss: 1.117998,  reward: 12.0,  second: 4.5\n",
      "epoch: 99,  loss: 1.118052,  reward: 10.0,  second: 3.8\n",
      "epoch: 100,  loss: 1.118114,  reward: 12.0,  second: 4.6\n"
     ]
    }
   ],
   "source": [
    "loss_mean_list = []\n",
    "reward_list = []\n",
    "\n",
    "\n",
    "for i in range(100):\n",
    "\n",
    "    # 初始状态\n",
    "    done = False\n",
    "    current_state = envirement.reset()\n",
    "    reward_temp = 0\n",
    "    loss_list = []\n",
    "    start = time.time()\n",
    "#     E_THRESHOLD = 1 / 1 + (0.01*i)\n",
    "    \n",
    "    while not done :\n",
    "\n",
    "        # agent 使用value_net 获取下一步 action\n",
    "        action = agent.step(current_state, E_THRESHOLD, 'value', 'egreedy')\n",
    "\n",
    "        # 从环境获取信息\n",
    "        next_state, reward, done, info = envirement.step(action)\n",
    "        reward_temp += reward\n",
    "\n",
    "        # 增加经验\n",
    "        replay.add((current_state, action, reward, next_state, done))\n",
    "\n",
    "        # 提取经验\n",
    "        data_batch = replay.sample(BATCH_SIZE)\n",
    "\n",
    "        # 网络更新参数\n",
    "        loss = agent.learn(data_batch, GAMMA)\n",
    "        loss_list.append(loss)\n",
    "\n",
    "        # 进入下一个状态\n",
    "        current_state = next_state\n",
    "\n",
    "    loss_mean_list.append(np.array(loss_list).mean())\n",
    "    reward_list.append(reward_temp)\n",
    "    duration = round(time.time() - start, 1)\n",
    "    \n",
    "    print(f'epoch: {i+1},  loss: {round(np.array(loss_list).mean(), 6)},  reward: {reward_temp},  second: {duration}')\n",
    "\n",
    "#     # 展示loss曲线\n",
    "#     plt.figure(figsize=(16, 8))\n",
    "    \n",
    "#     plt.subplot2grid((5,1), (0,0), 2)\n",
    "#     plt.title('loss')\n",
    "#     plt.plot(loss_mean_list, color='b')\n",
    "    \n",
    "#     plt.subplot2grid((5,1), (3,0), 2)\n",
    "#     plt.title('reward')\n",
    "#     plt.plot(reward_list, color='r')\n",
    "    \n",
    "#     display.display(plt.gcf())\n",
    "#     display.clear_output(wait=True)"
   ]
  },
  {
   "cell_type": "code",
   "execution_count": 199,
   "metadata": {},
   "outputs": [
    {
     "data": {
      "image/png": "[encoded data removed]",
      "text/plain": [
       "<Figure size 1152x360 with 1 Axes>"
      ]
     },
     "metadata": {
      "needs_background": "light"
     },
     "output_type": "display_data"
    }
   ],
   "source": [
    "plt.figure(figsize=(16, 5))\n",
    "plt.plot(reward_list)\n",
    "plt.show()"
   ]
  },
  {
   "cell_type": "markdown",
   "metadata": {},
   "source": [
    "## Playing"
   ]
  },
  {
   "cell_type": "code",
   "execution_count": 217,
   "metadata": {},
   "outputs": [
    {
     "name": "stdout",
     "output_type": "stream",
     "text": [
      "9.5\n"
     ]
    }
   ],
   "source": [
    "reward_list = []\n",
    "\n",
    "for i in range(500):\n",
    "\n",
    "    # 初始状态\n",
    "    done = False\n",
    "    current_state = envirement.reset()\n",
    "    reward_temp = 0\n",
    "\n",
    "    while not done :\n",
    "\n",
    "        # agent 使用value_net 获取下一步 action\n",
    "        action = agent.step(current_state, E_THRESHOLD, 'value', 'max')\n",
    "\n",
    "        # 从环境获取信息\n",
    "        next_state, reward, done, info = envirement.step(action)\n",
    "        reward_temp += reward\n",
    "\n",
    "        # 进入下一个状态\n",
    "        current_state = next_state\n",
    "    reward_list.append(reward_temp)\n",
    "\n",
    "print(np.array(reward_list).mean())"
   ]
  },
  {
   "cell_type": "markdown",
   "metadata": {},
   "source": [
    "## Random Playing"
   ]
  },
  {
   "cell_type": "code",
   "execution_count": 216,
   "metadata": {},
   "outputs": [
    {
     "name": "stdout",
     "output_type": "stream",
     "text": [
      "14.19330303311381\n"
     ]
    }
   ],
   "source": [
    "reward_list = []\n",
    "\n",
    "for i in range(500):\n",
    "    \n",
    "    # 初始状态\n",
    "    done = False\n",
    "    current_state = envirement.reset()\n",
    "    reward_temp = 0\n",
    "\n",
    "    while not done :\n",
    "        action = random.choice([0,1])\n",
    "\n",
    "        # 从环境获取信息\n",
    "        next_state, reward, done, info = envirement.step(action)\n",
    "        reward_temp += reward\n",
    "\n",
    "        # 进入下一个状态\n",
    "        current_state = next_state\n",
    "        reward_list.append(reward_temp)\n",
    "\n",
    "print(np.array(reward_list).mean())"
   ]
  },
  {
   "cell_type": "code",
   "execution_count": null,
   "metadata": {},
   "outputs": [],
   "source": []
  }
 ],
 "metadata": {
  "kernelspec": {
   "display_name": "Python 3",
   "language": "python",
   "name": "python3"
  },
  "language_info": {
   "codemirror_mode": {
    "name": "ipython",
    "version": 3
   },
   "file_extension": ".py",
   "mimetype": "text/x-python",
   "name": "python",
   "nbconvert_exporter": "python",
   "pygments_lexer": "ipython3",
   "version": "3.7.6"
  }
 },
 "nbformat": 4,
 "nbformat_minor": 4
}
