{
  "nbformat": 4,
  "nbformat_minor": 0,
  "metadata": {
    "kernelspec": {
      "display_name": "Python 3",
      "language": "python",
      "name": "python3"
    },
    "language_info": {
      "codemirror_mode": {
        "name": "ipython",
        "version": 3
      },
      "file_extension": ".py",
      "mimetype": "text/x-python",
      "name": "python",
      "nbconvert_exporter": "python",
      "pygments_lexer": "ipython3",
      "version": "3.7.6"
    },
    "colab": {
      "name": "DQN.ipynb",
      "provenance": [],
      "include_colab_link": true
    },
    "widgets": {
      "application/vnd.jupyter.widget-state+json": {
        "e16cd0f83848446a9d2b3230ff4323f3": {
          "model_module": "@jupyter-widgets/controls",
          "model_name": "HBoxModel",
          "state": {
            "_view_name": "HBoxView",
            "_dom_classes": [],
            "_model_name": "HBoxModel",
            "_view_module": "@jupyter-widgets/controls",
            "_model_module_version": "1.5.0",
            "_view_count": null,
            "_view_module_version": "1.5.0",
            "box_style": "",
            "layout": "IPY_MODEL_cd6bd9e3a49e441c81bc19b0bee46778",
            "_model_module": "@jupyter-widgets/controls",
            "children": [
              "IPY_MODEL_7cf7fb8d138949fca1ead7eae89cd942",
              "IPY_MODEL_816da1b63adc40f89563c9501c7502f0"
            ]
          }
        },
        "cd6bd9e3a49e441c81bc19b0bee46778": {
          "model_module": "@jupyter-widgets/base",
          "model_name": "LayoutModel",
          "state": {
            "_view_name": "LayoutView",
            "grid_template_rows": null,
            "right": null,
            "justify_content": null,
            "_view_module": "@jupyter-widgets/base",
            "overflow": null,
            "_model_module_version": "1.2.0",
            "_view_count": null,
            "flex_flow": "row wrap",
            "width": "100%",
            "min_width": null,
            "border": null,
            "align_items": null,
            "bottom": null,
            "_model_module": "@jupyter-widgets/base",
            "top": null,
            "grid_column": null,
            "overflow_y": null,
            "overflow_x": null,
            "grid_auto_flow": null,
            "grid_area": null,
            "grid_template_columns": null,
            "flex": null,
            "_model_name": "LayoutModel",
            "justify_items": null,
            "grid_row": null,
            "max_height": null,
            "align_content": null,
            "visibility": null,
            "align_self": null,
            "height": null,
            "min_height": null,
            "padding": null,
            "grid_auto_rows": null,
            "grid_gap": null,
            "max_width": null,
            "order": null,
            "_view_module_version": "1.2.0",
            "grid_template_areas": null,
            "object_position": null,
            "object_fit": null,
            "grid_auto_columns": null,
            "margin": null,
            "display": "inline-flex",
            "left": null
          }
        },
        "7cf7fb8d138949fca1ead7eae89cd942": {
          "model_module": "@jupyter-widgets/controls",
          "model_name": "FloatProgressModel",
          "state": {
            "_view_name": "ProgressView",
            "style": "IPY_MODEL_6a9d2c752da1452dbd8e8f2400eaa9ec",
            "_dom_classes": [],
            "description": "Epoch 99: 100%",
            "_model_name": "FloatProgressModel",
            "bar_style": "success",
            "max": 1,
            "_view_module": "@jupyter-widgets/controls",
            "_model_module_version": "1.5.0",
            "value": 1,
            "_view_count": null,
            "_view_module_version": "1.5.0",
            "orientation": "horizontal",
            "min": 0,
            "description_tooltip": null,
            "_model_module": "@jupyter-widgets/controls",
            "layout": "IPY_MODEL_f02b202c62b4489eab57e0ac2c955e21"
          }
        },
        "816da1b63adc40f89563c9501c7502f0": {
          "model_module": "@jupyter-widgets/controls",
          "model_name": "HTMLModel",
          "state": {
            "_view_name": "HTMLView",
            "style": "IPY_MODEL_f367a09259424ba39961bdd96d191330",
            "_dom_classes": [],
            "description": "",
            "_model_name": "HTMLModel",
            "placeholder": "​",
            "_view_module": "@jupyter-widgets/controls",
            "_model_module_version": "1.5.0",
            "value": " 1/1 [11:01&lt;00:00, 661.66s/it, loss=17.4, v_num=1]",
            "_view_count": null,
            "_view_module_version": "1.5.0",
            "description_tooltip": null,
            "_model_module": "@jupyter-widgets/controls",
            "layout": "IPY_MODEL_22ab83c5842b41549a801528a1e2b6f7"
          }
        },
        "6a9d2c752da1452dbd8e8f2400eaa9ec": {
          "model_module": "@jupyter-widgets/controls",
          "model_name": "ProgressStyleModel",
          "state": {
            "_view_name": "StyleView",
            "_model_name": "ProgressStyleModel",
            "description_width": "initial",
            "_view_module": "@jupyter-widgets/base",
            "_model_module_version": "1.5.0",
            "_view_count": null,
            "_view_module_version": "1.2.0",
            "bar_color": null,
            "_model_module": "@jupyter-widgets/controls"
          }
        },
        "f02b202c62b4489eab57e0ac2c955e21": {
          "model_module": "@jupyter-widgets/base",
          "model_name": "LayoutModel",
          "state": {
            "_view_name": "LayoutView",
            "grid_template_rows": null,
            "right": null,
            "justify_content": null,
            "_view_module": "@jupyter-widgets/base",
            "overflow": null,
            "_model_module_version": "1.2.0",
            "_view_count": null,
            "flex_flow": null,
            "width": null,
            "min_width": null,
            "border": null,
            "align_items": null,
            "bottom": null,
            "_model_module": "@jupyter-widgets/base",
            "top": null,
            "grid_column": null,
            "overflow_y": null,
            "overflow_x": null,
            "grid_auto_flow": null,
            "grid_area": null,
            "grid_template_columns": null,
            "flex": "2",
            "_model_name": "LayoutModel",
            "justify_items": null,
            "grid_row": null,
            "max_height": null,
            "align_content": null,
            "visibility": null,
            "align_self": null,
            "height": null,
            "min_height": null,
            "padding": null,
            "grid_auto_rows": null,
            "grid_gap": null,
            "max_width": null,
            "order": null,
            "_view_module_version": "1.2.0",
            "grid_template_areas": null,
            "object_position": null,
            "object_fit": null,
            "grid_auto_columns": null,
            "margin": null,
            "display": null,
            "left": null
          }
        },
        "f367a09259424ba39961bdd96d191330": {
          "model_module": "@jupyter-widgets/controls",
          "model_name": "DescriptionStyleModel",
          "state": {
            "_view_name": "StyleView",
            "_model_name": "DescriptionStyleModel",
            "description_width": "",
            "_view_module": "@jupyter-widgets/base",
            "_model_module_version": "1.5.0",
            "_view_count": null,
            "_view_module_version": "1.2.0",
            "_model_module": "@jupyter-widgets/controls"
          }
        },
        "22ab83c5842b41549a801528a1e2b6f7": {
          "model_module": "@jupyter-widgets/base",
          "model_name": "LayoutModel",
          "state": {
            "_view_name": "LayoutView",
            "grid_template_rows": null,
            "right": null,
            "justify_content": null,
            "_view_module": "@jupyter-widgets/base",
            "overflow": null,
            "_model_module_version": "1.2.0",
            "_view_count": null,
            "flex_flow": null,
            "width": null,
            "min_width": null,
            "border": null,
            "align_items": null,
            "bottom": null,
            "_model_module": "@jupyter-widgets/base",
            "top": null,
            "grid_column": null,
            "overflow_y": null,
            "overflow_x": null,
            "grid_auto_flow": null,
            "grid_area": null,
            "grid_template_columns": null,
            "flex": null,
            "_model_name": "LayoutModel",
            "justify_items": null,
            "grid_row": null,
            "max_height": null,
            "align_content": null,
            "visibility": null,
            "align_self": null,
            "height": null,
            "min_height": null,
            "padding": null,
            "grid_auto_rows": null,
            "grid_gap": null,
            "max_width": null,
            "order": null,
            "_view_module_version": "1.2.0",
            "grid_template_areas": null,
            "object_position": null,
            "object_fit": null,
            "grid_auto_columns": null,
            "margin": null,
            "display": null,
            "left": null
          }
        },
        "0055f55a3c8c4ea381003ac3eed7e75a": {
          "model_module": "@jupyter-widgets/controls",
          "model_name": "HBoxModel",
          "state": {
            "_view_name": "HBoxView",
            "_dom_classes": [],
            "_model_name": "HBoxModel",
            "_view_module": "@jupyter-widgets/controls",
            "_model_module_version": "1.5.0",
            "_view_count": null,
            "_view_module_version": "1.5.0",
            "box_style": "",
            "layout": "IPY_MODEL_15dac7cf2c854303aa6b66c96fd02a86",
            "_model_module": "@jupyter-widgets/controls",
            "children": [
              "IPY_MODEL_c035fdaaac3d4bb68e8ea3c4e2731125",
              "IPY_MODEL_682c77c5bbf042b982adb993ccdb63a2"
            ]
          }
        },
        "15dac7cf2c854303aa6b66c96fd02a86": {
          "model_module": "@jupyter-widgets/base",
          "model_name": "LayoutModel",
          "state": {
            "_view_name": "LayoutView",
            "grid_template_rows": null,
            "right": null,
            "justify_content": null,
            "_view_module": "@jupyter-widgets/base",
            "overflow": null,
            "_model_module_version": "1.2.0",
            "_view_count": null,
            "flex_flow": "row wrap",
            "width": "100%",
            "min_width": null,
            "border": null,
            "align_items": null,
            "bottom": null,
            "_model_module": "@jupyter-widgets/base",
            "top": null,
            "grid_column": null,
            "overflow_y": null,
            "overflow_x": null,
            "grid_auto_flow": null,
            "grid_area": null,
            "grid_template_columns": null,
            "flex": null,
            "_model_name": "LayoutModel",
            "justify_items": null,
            "grid_row": null,
            "max_height": null,
            "align_content": null,
            "visibility": null,
            "align_self": null,
            "height": null,
            "min_height": null,
            "padding": null,
            "grid_auto_rows": null,
            "grid_gap": null,
            "max_width": null,
            "order": null,
            "_view_module_version": "1.2.0",
            "grid_template_areas": null,
            "object_position": null,
            "object_fit": null,
            "grid_auto_columns": null,
            "margin": null,
            "display": "inline-flex",
            "left": null
          }
        },
        "c035fdaaac3d4bb68e8ea3c4e2731125": {
          "model_module": "@jupyter-widgets/controls",
          "model_name": "FloatProgressModel",
          "state": {
            "_view_name": "ProgressView",
            "style": "IPY_MODEL_0713b55fc9c7434fada753ae80fdc295",
            "_dom_classes": [],
            "description": "Epoch 999: 100%",
            "_model_name": "FloatProgressModel",
            "bar_style": "success",
            "max": 1,
            "_view_module": "@jupyter-widgets/controls",
            "_model_module_version": "1.5.0",
            "value": 1,
            "_view_count": null,
            "_view_module_version": "1.5.0",
            "orientation": "horizontal",
            "min": 0,
            "description_tooltip": null,
            "_model_module": "@jupyter-widgets/controls",
            "layout": "IPY_MODEL_2c9ad922874d4b35ac31bac9839f9a12"
          }
        },
        "682c77c5bbf042b982adb993ccdb63a2": {
          "model_module": "@jupyter-widgets/controls",
          "model_name": "HTMLModel",
          "state": {
            "_view_name": "HTMLView",
            "style": "IPY_MODEL_4737f9f5210841978ec034530dc71325",
            "_dom_classes": [],
            "description": "",
            "_model_name": "HTMLModel",
            "placeholder": "​",
            "_view_module": "@jupyter-widgets/controls",
            "_model_module_version": "1.5.0",
            "value": " 1/1 [00:33&lt;00:00, 33.53s/it, loss=1.13, v_num=6]",
            "_view_count": null,
            "_view_module_version": "1.5.0",
            "description_tooltip": null,
            "_model_module": "@jupyter-widgets/controls",
            "layout": "IPY_MODEL_1c3f40bca59242058bee3f3f2c1306c7"
          }
        },
        "0713b55fc9c7434fada753ae80fdc295": {
          "model_module": "@jupyter-widgets/controls",
          "model_name": "ProgressStyleModel",
          "state": {
            "_view_name": "StyleView",
            "_model_name": "ProgressStyleModel",
            "description_width": "initial",
            "_view_module": "@jupyter-widgets/base",
            "_model_module_version": "1.5.0",
            "_view_count": null,
            "_view_module_version": "1.2.0",
            "bar_color": null,
            "_model_module": "@jupyter-widgets/controls"
          }
        },
        "2c9ad922874d4b35ac31bac9839f9a12": {
          "model_module": "@jupyter-widgets/base",
          "model_name": "LayoutModel",
          "state": {
            "_view_name": "LayoutView",
            "grid_template_rows": null,
            "right": null,
            "justify_content": null,
            "_view_module": "@jupyter-widgets/base",
            "overflow": null,
            "_model_module_version": "1.2.0",
            "_view_count": null,
            "flex_flow": null,
            "width": null,
            "min_width": null,
            "border": null,
            "align_items": null,
            "bottom": null,
            "_model_module": "@jupyter-widgets/base",
            "top": null,
            "grid_column": null,
            "overflow_y": null,
            "overflow_x": null,
            "grid_auto_flow": null,
            "grid_area": null,
            "grid_template_columns": null,
            "flex": "2",
            "_model_name": "LayoutModel",
            "justify_items": null,
            "grid_row": null,
            "max_height": null,
            "align_content": null,
            "visibility": null,
            "align_self": null,
            "height": null,
            "min_height": null,
            "padding": null,
            "grid_auto_rows": null,
            "grid_gap": null,
            "max_width": null,
            "order": null,
            "_view_module_version": "1.2.0",
            "grid_template_areas": null,
            "object_position": null,
            "object_fit": null,
            "grid_auto_columns": null,
            "margin": null,
            "display": null,
            "left": null
          }
        },
        "4737f9f5210841978ec034530dc71325": {
          "model_module": "@jupyter-widgets/controls",
          "model_name": "DescriptionStyleModel",
          "state": {
            "_view_name": "StyleView",
            "_model_name": "DescriptionStyleModel",
            "description_width": "",
            "_view_module": "@jupyter-widgets/base",
            "_model_module_version": "1.5.0",
            "_view_count": null,
            "_view_module_version": "1.2.0",
            "_model_module": "@jupyter-widgets/controls"
          }
        },
        "1c3f40bca59242058bee3f3f2c1306c7": {
          "model_module": "@jupyter-widgets/base",
          "model_name": "LayoutModel",
          "state": {
            "_view_name": "LayoutView",
            "grid_template_rows": null,
            "right": null,
            "justify_content": null,
            "_view_module": "@jupyter-widgets/base",
            "overflow": null,
            "_model_module_version": "1.2.0",
            "_view_count": null,
            "flex_flow": null,
            "width": null,
            "min_width": null,
            "border": null,
            "align_items": null,
            "bottom": null,
            "_model_module": "@jupyter-widgets/base",
            "top": null,
            "grid_column": null,
            "overflow_y": null,
            "overflow_x": null,
            "grid_auto_flow": null,
            "grid_area": null,
            "grid_template_columns": null,
            "flex": null,
            "_model_name": "LayoutModel",
            "justify_items": null,
            "grid_row": null,
            "max_height": null,
            "align_content": null,
            "visibility": null,
            "align_self": null,
            "height": null,
            "min_height": null,
            "padding": null,
            "grid_auto_rows": null,
            "grid_gap": null,
            "max_width": null,
            "order": null,
            "_view_module_version": "1.2.0",
            "grid_template_areas": null,
            "object_position": null,
            "object_fit": null,
            "grid_auto_columns": null,
            "margin": null,
            "display": null,
            "left": null
          }
        }
      }
    }
  },
  "cells": [
    {
      "cell_type": "markdown",
      "metadata": {
        "id": "view-in-github",
        "colab_type": "text"
      },
      "source": [
        "<a href=\"https://colab.research.google.com/github/xx529/Reinforcement-Learning/blob/main/DQN/DQN%20version2.ipynb\" target=\"_parent\"><img src=\"https://colab.research.google.com/assets/colab-badge.svg\" alt=\"Open In Colab\"/></a>"
      ]
    },
    {
      "cell_type": "markdown",
      "metadata": {
        "id": "j1hrzWiDIwT5"
      },
      "source": [
        "# CartPole\n",
        "\n",
        "1. DQN (double)\n",
        "2. Q-Learning\n",
        "3. memory replay\n",
        "\n",
        "\n",
        "![pole.png](data:image/png;base64,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)\n",
        "\n"
      ]
    },
    {
      "cell_type": "code",
      "metadata": {
        "id": "KcJJo3ixWdBS"
      },
      "source": [
        "# !pip install pytorch-lightning"
      ],
      "execution_count": 116,
      "outputs": []
    },
    {
      "cell_type": "code",
      "metadata": {
        "id": "t1d0kWKnIwT7"
      },
      "source": [
        "import gym\n",
        "import matplotlib.pyplot as plt\n",
        "import random\n",
        "import torch.nn as nn\n",
        "import torch\n",
        "import copy\n",
        "import numpy as np\n",
        "import torch.optim as optimizer\n",
        "from IPython import display\n",
        "import time\n",
        "import pytorch_lightning as pl\n",
        "from torch.utils.data import TensorDataset\n",
        "from torch.utils.data import DataLoader\n",
        "import torch.nn.functional as F\n",
        "from pytorch_lightning import loggers as pl_loggers"
      ],
      "execution_count": 136,
      "outputs": []
    },
    {
      "cell_type": "code",
      "metadata": {
        "id": "IeBBGAnA-RTE"
      },
      "source": [
        "env = gym.make('CartPole-v0')\n",
        "obs = env.reset()\n",
        "done = False\n",
        "\n",
        "while not done:\n",
        "    action = env.action_space.sample()\n",
        "    observation, reward, done, info = env.step(action)\n",
        "    # print(observation, reward, done, info, action)"
      ],
      "execution_count": 118,
      "outputs": []
    },
    {
      "cell_type": "markdown",
      "metadata": {
        "id": "ZVKFPGwLIwT8"
      },
      "source": [
        "## Memory Replay"
      ]
    },
    {
      "cell_type": "code",
      "metadata": {
        "id": "Wk-1n-5uIwT8"
      },
      "source": [
        "class MemoryReplay:\n",
        "    def __init__(self, memory_size, gamma=0.8):\n",
        "        self.queue = []\n",
        "        self.add_list = []\n",
        "        self.gamma = gamma\n",
        "        self.memory_size = memory_size\n",
        "        \n",
        "    def add(self, mc_sample_tuple): # (cur_obervation, action, reward, done)\n",
        "        self.add_list.append(mc_sample_tuple)\n",
        "        if mc_sample_tuple[3] == True:\n",
        "            self.creat_memory()\n",
        "\n",
        "    def creat_memory(self):\n",
        "        next_state_value  = 0\n",
        "        for (cur_obervation, action, reward, _) in self.add_list[::-1]:\n",
        "            next_state_value = reward + self.gamma * next_state_value\n",
        "            self.queue.append((cur_obervation, action, next_state_value))\n",
        "            if len(self.queue) >= self.memory_size:\n",
        "                self.queue.pop(0)\n",
        "        self.add_list = []\n",
        "    \n",
        "    def sample(self, batch_size):\n",
        "        if batch_size > len(self.queue):\n",
        "            temp = self.queue\n",
        "        else:\n",
        "            temp = random.sample(self.queue, batch_size)\n",
        "    \n",
        "        \n",
        "        x = torch.FloatTensor([np.r_[x[0], np.array(x[1])] for x in temp])\n",
        "        y = torch.FloatTensor(np.array([x[-1] for x in temp]).reshape(-1, 1))\n",
        "\n",
        "        dataset = TensorDataset(x, y)\n",
        "        \n",
        "        return DataLoader(dataset, 64, True)\n",
        "\n",
        "    def __len__(self):\n",
        "        return len(self.queue)"
      ],
      "execution_count": 119,
      "outputs": []
    },
    {
      "cell_type": "code",
      "metadata": {
        "id": "rnh5CuFcaojQ"
      },
      "source": [
        "replay = MemoryReplay(1024)\n",
        "\n",
        "env = gym.make('CartPole-v0')\n",
        "current_observation = env.reset()\n",
        "done = False\n",
        "\n",
        "while True:\n",
        "    action = env.action_space.sample()\n",
        "    next_observation, reward, done, info = env.step(action)\n",
        "\n",
        "    if done:\n",
        "        replay.add((current_observation, action, -1, done))\n",
        "        break\n",
        "    else:\n",
        "        replay.add((current_observation, action, reward, done))\n",
        "\n",
        "    current_observation = next_observation"
      ],
      "execution_count": 120,
      "outputs": []
    },
    {
      "cell_type": "code",
      "metadata": {
        "id": "TUoGgmcn32Ir",
        "outputId": "44729b95-02cb-4341-893b-165be32990b5",
        "colab": {
          "base_uri": "https://localhost:8080/"
        }
      },
      "source": [
        "replay.sample(10)"
      ],
      "execution_count": 121,
      "outputs": [
        {
          "output_type": "execute_result",
          "data": {
            "text/plain": [
              "<torch.utils.data.dataloader.DataLoader at 0x7f6ef9ba9dd0>"
            ]
          },
          "metadata": {
            "tags": []
          },
          "execution_count": 121
        }
      ]
    },
    {
      "cell_type": "markdown",
      "metadata": {
        "id": "_LVi2m6RIwT9"
      },
      "source": [
        "## DQN"
      ]
    },
    {
      "cell_type": "code",
      "metadata": {
        "id": "x2Rm_FOWIwT9"
      },
      "source": [
        "class DQN(pl.LightningModule):\n",
        "    def __init__(self):\n",
        "        super().__init__()\n",
        "        self.predict_state_value = nn.Sequential(\n",
        "            nn.Linear(5, 64),\n",
        "            nn.ReLU(),   \n",
        "            nn.Linear(64, 32),\n",
        "            nn.ReLU(),\n",
        "            nn.Linear(32, 1)\n",
        "        )\n",
        "\n",
        "    def forward(self, x): \n",
        "        state_value = self.predict_state_value(x)\n",
        "        return state_value\n",
        "\n",
        "    def training_step(self, batch, batch_idx):\n",
        "        x, y_true = batch\n",
        "        y_hat = self.predict_state_value(x)\n",
        "        loss = F.mse_loss(y_hat, y_true)\n",
        "        self.log('train_loss', loss)\n",
        "        return loss\n",
        "\n",
        "    def configure_optimizers(self):\n",
        "        optimizer = torch.optim.Adam(self.parameters(), lr=1e-3)"
      ],
      "execution_count": 127,
      "outputs": []
    },
    {
      "cell_type": "code",
      "metadata": {
        "id": "xPIJiO_a8tWh"
      },
      "source": [
        "%load_ext tensorboard"
      ],
      "execution_count": 132,
      "outputs": []
    },
    {
      "cell_type": "code",
      "metadata": {
        "id": "yDl1hFrjamcF",
        "outputId": "e56a9105-6df3-4d6a-e2d6-a0f58d2cdfc1",
        "colab": {
          "base_uri": "https://localhost:8080/",
          "height": 324,
          "referenced_widgets": [
            "e16cd0f83848446a9d2b3230ff4323f3",
            "cd6bd9e3a49e441c81bc19b0bee46778",
            "7cf7fb8d138949fca1ead7eae89cd942",
            "816da1b63adc40f89563c9501c7502f0",
            "6a9d2c752da1452dbd8e8f2400eaa9ec",
            "f02b202c62b4489eab57e0ac2c955e21",
            "f367a09259424ba39961bdd96d191330",
            "22ab83c5842b41549a801528a1e2b6f7"
          ]
        }
      },
      "source": [
        "dqn = DQN()\n",
        "\n",
        "tb_logger = pl_loggers.TensorBoardLogger('logs/')\n",
        "trainer = pl.Trainer(max_epochs=100, logger=tb_logger)\n",
        "trainer.fit(dqn, replay.sample(100))"
      ],
      "execution_count": 145,
      "outputs": [
        {
          "output_type": "stream",
          "text": [
            "GPU available: False, used: False\n",
            "TPU available: None, using: 0 TPU cores\n",
            "/usr/local/lib/python3.7/dist-packages/pytorch_lightning/utilities/distributed.py:52: UserWarning: `LightningModule.configure_optimizers` returned `None`, this fit will run with no optimizer\n",
            "  warnings.warn(*args, **kwargs)\n",
            "\n",
            "  | Name                | Type       | Params\n",
            "---------------------------------------------------\n",
            "0 | predict_state_value | Sequential | 2.5 K \n",
            "---------------------------------------------------\n",
            "2.5 K     Trainable params\n",
            "0         Non-trainable params\n",
            "2.5 K     Total params\n",
            "0.010     Total estimated model params size (MB)\n"
          ],
          "name": "stderr"
        },
        {
          "output_type": "display_data",
          "data": {
            "application/vnd.jupyter.widget-view+json": {
              "model_id": "e16cd0f83848446a9d2b3230ff4323f3",
              "version_minor": 0,
              "version_major": 2
            },
            "text/plain": [
              "HBox(children=(FloatProgress(value=1.0, bar_style='info', description='Training', layout=Layout(flex='2'), max…"
            ]
          },
          "metadata": {
            "tags": []
          }
        },
        {
          "output_type": "stream",
          "text": [
            "\n"
          ],
          "name": "stdout"
        },
        {
          "output_type": "execute_result",
          "data": {
            "text/plain": [
              "1"
            ]
          },
          "metadata": {
            "tags": []
          },
          "execution_count": 145
        }
      ]
    },
    {
      "cell_type": "markdown",
      "metadata": {
        "id": "0TGoULupIwT-"
      },
      "source": [
        "## Agent"
      ]
    },
    {
      "cell_type": "code",
      "metadata": {
        "id": "k68hvw8cIwT-"
      },
      "source": [
        "class Agent:\n",
        "    def __init__(self, DQN_net):\n",
        "        self.net = DQN_net\n",
        "\n",
        "    def learn(self, train_loader):\n",
        "        trainer = pl.Trainer(max_epochs=100)\n",
        "        trainer.fit(self.net, train_loader)\n",
        "\n",
        "\n",
        "    def step(self, state):\n",
        "        x = torch.FloatTensor([\n",
        "                state + [0.0],\n",
        "                state + [1.0]\n",
        "                ])\n",
        "        \n",
        "        return self.net(x)"
      ],
      "execution_count": 151,
      "outputs": []
    },
    {
      "cell_type": "markdown",
      "metadata": {
        "id": "lQHTEH07IwT_"
      },
      "source": [
        "## Setting"
      ]
    },
    {
      "cell_type": "code",
      "metadata": {
        "id": "PFcmF9_AIwT_"
      },
      "source": [
        "# Envirement\n",
        "envirement = gym.make('CartPole-v0')\n",
        "\n",
        "# Replay\n",
        "MEMORY_SIZE = 2000\n",
        "replay = MemoryReplay(MEMORY_SIZE)\n",
        "\n",
        "# DQN\n",
        "model = DQN()\n",
        "\n",
        "# Agent\n",
        "agent = Agent(model)\n",
        "\n",
        "# Others\n",
        "BATCH_SIZE = 1024\n",
        "GAMMA = 0.9"
      ],
      "execution_count": 153,
      "outputs": []
    },
    {
      "cell_type": "markdown",
      "metadata": {
        "id": "yipDyQ8aIwUA"
      },
      "source": [
        "## RL Training"
      ]
    },
    {
      "cell_type": "code",
      "metadata": {
        "scrolled": false,
        "id": "qpr8LMO0IwUA",
        "colab": {
          "base_uri": "https://localhost:8080/",
          "height": 307,
          "referenced_widgets": [
            "0055f55a3c8c4ea381003ac3eed7e75a",
            "15dac7cf2c854303aa6b66c96fd02a86",
            "c035fdaaac3d4bb68e8ea3c4e2731125",
            "682c77c5bbf042b982adb993ccdb63a2",
            "0713b55fc9c7434fada753ae80fdc295",
            "2c9ad922874d4b35ac31bac9839f9a12",
            "4737f9f5210841978ec034530dc71325",
            "1c3f40bca59242058bee3f3f2c1306c7"
          ]
        },
        "outputId": "18bc7bb0-4be2-4a99-ff33-ac389773fd29"
      },
      "source": [
        "for i in range(1):\n",
        "    while True:\n",
        "        action = env.action_space.sample()\n",
        "        next_observation, reward, done, info = env.step(action)\n",
        "\n",
        "        if done:\n",
        "            replay.add((current_observation, action, -1, done))\n",
        "            break\n",
        "        else:\n",
        "            replay.add((current_observation, action, reward, done))\n",
        "\n",
        "        current_observation = next_observation\n",
        "\n",
        "    agent.learn(replay.sample(BATCH_SIZE))"
      ],
      "execution_count": 154,
      "outputs": [
        {
          "output_type": "stream",
          "text": [
            "GPU available: False, used: False\n",
            "TPU available: None, using: 0 TPU cores\n",
            "/usr/local/lib/python3.7/dist-packages/pytorch_lightning/utilities/distributed.py:52: UserWarning: `LightningModule.configure_optimizers` returned `None`, this fit will run with no optimizer\n",
            "  warnings.warn(*args, **kwargs)\n",
            "\n",
            "  | Name                | Type       | Params\n",
            "---------------------------------------------------\n",
            "0 | predict_state_value | Sequential | 2.5 K \n",
            "---------------------------------------------------\n",
            "2.5 K     Trainable params\n",
            "0         Non-trainable params\n",
            "2.5 K     Total params\n",
            "0.010     Total estimated model params size (MB)\n"
          ],
          "name": "stderr"
        },
        {
          "output_type": "display_data",
          "data": {
            "application/vnd.jupyter.widget-view+json": {
              "model_id": "0055f55a3c8c4ea381003ac3eed7e75a",
              "version_minor": 0,
              "version_major": 2
            },
            "text/plain": [
              "HBox(children=(FloatProgress(value=1.0, bar_style='info', description='Training', layout=Layout(flex='2'), max…"
            ]
          },
          "metadata": {
            "tags": []
          }
        },
        {
          "output_type": "stream",
          "text": [
            "\n"
          ],
          "name": "stdout"
        }
      ]
    },
    {
      "cell_type": "code",
      "metadata": {
        "id": "aGXQyVkhIwUB",
        "outputId": "5decf439-1a8a-4ab5-8f7f-88514c15bb8c",
        "colab": {
          "base_uri": "https://localhost:8080/"
        }
      },
      "source": [
        "x = 1\n",
        "\n",
        "a = [1,2,3,4,5,x]\n",
        "a"
      ],
      "execution_count": 150,
      "outputs": [
        {
          "output_type": "execute_result",
          "data": {
            "text/plain": [
              "[1, 2, 3, 4, 5, 1]"
            ]
          },
          "metadata": {
            "tags": []
          },
          "execution_count": 150
        }
      ]
    },
    {
      "cell_type": "markdown",
      "metadata": {
        "id": "JcbqjZX-IwUC"
      },
      "source": [
        "## Playing"
      ]
    },
    {
      "cell_type": "code",
      "metadata": {
        "id": "9l1SIjnMIwUC"
      },
      "source": [
        "reward_list = []\n",
        "\n",
        "for i in range(500):\n",
        "\n",
        "    # 初始状态\n",
        "    done = False\n",
        "    current_state = envirement.reset()\n",
        "    reward_temp = 0\n",
        "\n",
        "    while not done :\n",
        "\n",
        "        # agent 使用value_net 获取下一步 action\n",
        "        action = agent.step(current_state, E_THRESHOLD, 'value', 'max')\n",
        "\n",
        "        # 从环境获取信息\n",
        "        next_state, reward, done, info = envirement.step(action)\n",
        "        reward_temp += reward\n",
        "\n",
        "        # 进入下一个状态\n",
        "        current_state = next_state\n",
        "    reward_list.append(reward_temp)\n",
        "\n",
        "print(np.array(reward_list).mean())"
      ],
      "execution_count": null,
      "outputs": []
    },
    {
      "cell_type": "markdown",
      "metadata": {
        "id": "vsgcbh6hIwUC"
      },
      "source": [
        "## Random Playing"
      ]
    },
    {
      "cell_type": "code",
      "metadata": {
        "id": "-6jTALRaIwUD"
      },
      "source": [
        "reward_list = []\n",
        "\n",
        "for i in range(500):\n",
        "    \n",
        "    # 初始状态\n",
        "    done = False\n",
        "    current_state = envirement.reset()\n",
        "    reward_temp = 0\n",
        "\n",
        "    while not done :\n",
        "        action = random.choice([0,1])\n",
        "\n",
        "        # 从环境获取信息\n",
        "        next_state, reward, done, info = envirement.step(action)\n",
        "        reward_temp += reward\n",
        "\n",
        "        # 进入下一个状态\n",
        "        current_state = next_state\n",
        "        reward_list.append(reward_temp)\n",
        "\n",
        "print(np.array(reward_list).mean())"
      ],
      "execution_count": null,
      "outputs": []
    },
    {
      "cell_type": "code",
      "metadata": {
        "id": "pKP_Jy8ZvP2_"
      },
      "source": [
        "next_state, reward, done, info = envirement.step(action)"
      ],
      "execution_count": null,
      "outputs": []
    },
    {
      "cell_type": "code",
      "metadata": {
        "id": "qqUP1DC22qPs"
      },
      "source": [
        "next_state"
      ],
      "execution_count": null,
      "outputs": []
    },
    {
      "cell_type": "code",
      "metadata": {
        "id": "pipIYlpB2r6j"
      },
      "source": [
        "reward"
      ],
      "execution_count": null,
      "outputs": []
    },
    {
      "cell_type": "code",
      "metadata": {
        "id": "12M4mQJV2sr4"
      },
      "source": [
        "done"
      ],
      "execution_count": null,
      "outputs": []
    },
    {
      "cell_type": "code",
      "metadata": {
        "id": "o0LM2kOQ2tZP"
      },
      "source": [
        "info"
      ],
      "execution_count": null,
      "outputs": []
    },
    {
      "cell_type": "code",
      "metadata": {
        "id": "vDrnwR5D2uHx",
        "colab": {
          "base_uri": "https://localhost:8080/"
        },
        "outputId": "c62c50f0-39f9-4909-d803-ddbc69ddfdae"
      },
      "source": [
        "data_batch[0]"
      ],
      "execution_count": null,
      "outputs": [
        {
          "output_type": "execute_result",
          "data": {
            "text/plain": [
              "(array([ 0.02894037, -0.02437702, -0.03604944, -0.0175876 ]),\n",
              " 1,\n",
              " 1.0,\n",
              " array([ 0.02845283,  0.17124288, -0.0364012 , -0.32142305]),\n",
              " False)"
            ]
          },
          "metadata": {
            "tags": []
          },
          "execution_count": 75
        }
      ]
    },
    {
      "cell_type": "code",
      "metadata": {
        "id": "NjWNT7X-5qwu"
      },
      "source": [
        ""
      ],
      "execution_count": null,
      "outputs": []
    }
  ]
}