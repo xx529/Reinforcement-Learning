{
 "cells": [
  {
   "cell_type": "markdown",
   "metadata": {},
   "source": [
    "# Sarsa & Q-learning"
   ]
  },
  {
   "cell_type": "markdown",
   "metadata": {},
   "source": [
    "## 规则说明\n",
    "\n",
    "1. 起始点S，终点G，The Cliff 为悬崖（抽象成一个状态）\n",
    "2. 每走灰色的一步获得-1奖励，走到 G 点获得100奖励，遇到 The Cliff 获得-100奖励\n",
    "3. 每一步之后上下左右4种action，遇到墙壁则返回当前状态，遇到 The Cliff 则直接返回 S 状态\n",
    "\n",
    "## 目标\n",
    "1. 通过 model free 的 Saras 和 Q-learin 方式训练 agent 从 S 走到 G\n",
    "\n",
    "![title](the_cliff.png)"
   ]
  },
  {
   "cell_type": "markdown",
   "metadata": {},
   "source": [
    "## Envirement 类\n",
    "\n",
    "![title](state.png)"
   ]
  },
  {
   "cell_type": "code",
   "execution_count": 182,
   "metadata": {},
   "outputs": [],
   "source": [
    "import numpy as np\n",
    "from collections import defaultdict\n",
    "import copy\n",
    "import matplotlib.pyplot as plt"
   ]
  },
  {
   "cell_type": "code",
   "execution_count": 115,
   "metadata": {},
   "outputs": [],
   "source": [
    "# State -> s:[up, down, left, right]\n",
    "S = {\n",
    "    0: np.array([21,0,0,31]),\n",
    "    1: np.array([1,11,1,2]),\n",
    "    2: np.array([2,12,1,3]),\n",
    "    3: np.array([3,13,2,4]),\n",
    "    4: np.array([4,14,3,5]),\n",
    "    5: np.array([5,15,4,6]),\n",
    "    6: np.array([6,16,5,7]),\n",
    "    7: np.array([7,17,6,8]),\n",
    "    8: np.array([8,18,7,9]),\n",
    "    9: np.array([9,19,8,10]),\n",
    "    10: np.array([10,20,9,10]),\n",
    "    11: np.array([1,21,11,12]),\n",
    "    12: np.array([2,22,11,13]),\n",
    "    13: np.array([3,23,12,14]),\n",
    "    14: np.array([4,24,13,15]),\n",
    "    15: np.array([5,25,14,16]),\n",
    "    16: np.array([6,26,15,17]),\n",
    "    17: np.array([7,27,16,18]),\n",
    "    18: np.array([8,28,17,19]),\n",
    "    19: np.array([9,29,18,20]),\n",
    "    20: np.array([10,30,19,20]),\n",
    "    21: np.array([11,0,21,22]),\n",
    "    22: np.array([12,31,21,23]),\n",
    "    23: np.array([13,31,22,24]),\n",
    "    24: np.array([14,31,23,25]),\n",
    "    25: np.array([15,31,24,26]),\n",
    "    26: np.array([16,31,25,27]),\n",
    "    27: np.array([17,31,26,28]),\n",
    "    28: np.array([18,31,27,29]),\n",
    "    29: np.array([19,31,28,30]),\n",
    "    30: np.array([20,32,29,30]),\n",
    "    31: np.array([0,0,0,0]),\n",
    "    32: np.array([32,32,32,32]),\n",
    "}"
   ]
  },
  {
   "cell_type": "code",
   "execution_count": 116,
   "metadata": {},
   "outputs": [],
   "source": [
    "# Reward\n",
    "R = {x:-1 for x in range(33)}\n",
    "R[32] = 100\n",
    "R[31] = -100"
   ]
  },
  {
   "cell_type": "markdown",
   "metadata": {},
   "source": [
    "## Envirement 类"
   ]
  },
  {
   "cell_type": "code",
   "execution_count": 271,
   "metadata": {},
   "outputs": [],
   "source": [
    "class Envirement():\n",
    "    def __init__(self, start, end, reward, transition):\n",
    "        self.start = start\n",
    "        self.end = end\n",
    "        self.reward = reward\n",
    "        self.transition = transition\n",
    "        self.state_value = {x:0 for x in self.transition.keys()}\n",
    "        self.update_sep = []\n",
    "        \n",
    "    def sample_one_step(self, state, agent_action):\n",
    "        next_state = self.transition[state][agent_action]\n",
    "        return next_state\n",
    "\n",
    "    def updata_state_value_by_MC_policy_evaluation(self, state_sep, gamma):\n",
    "        count_state = defaultdict(int)\n",
    "        \n",
    "        for idx, s in enumerate(state_sep):\n",
    "            count_state[s] += 1\n",
    "            current_gamma = gamma\n",
    "            Gt = self.reward[s]\n",
    "            \n",
    "            # 计算 R_t+1 到 R_end\n",
    "            for next_s in state_sep[idx+1:]: \n",
    "                Gt += self.reward[next_s] * current_gamma\n",
    "                current_gamma = current_gamma * gamma\n",
    "                \n",
    "            # Incremental Monte-Carlo Updates\n",
    "            self.state_value[s] = self.state_value[s] + 1/count_state[s] * (Gt - self.state_value[s])\n",
    "            \n",
    "    def updata_state_value_by_TD_policy_evaluation(self, state_sep, gamma, alpha):\n",
    "        for idx, s in enumerate(state_sep[:-1]):\n",
    "            next_s = state_sep[idx+1]\n",
    "            TD_error = self.reward[s] + gamma * self.state_value[next_s] - self.state_value[s]\n",
    "            self.state_value[s] = self.state_value[s] + alpha * TD_error\n",
    "        \n",
    "        # 序列最后一个状态价值就是自身的 reward    \n",
    "        self.state_value[state_sep[-1]] = self.reward[state_sep[-1]]\n",
    "        \n",
    "        \n",
    "        \n",
    "    def show_path(self, seq):\n",
    "        row1 = {x:(x-1, 3) for x in range(1, 11)}\n",
    "        row2 = {x:(x-11, 2) for x in range(11, 21)}\n",
    "        row3 = {x:(x-21, 1) for x in range(21, 31)}\n",
    "        location_dict = {0:(0,0), 32:(9, 0)}\n",
    "        location_dict.update(row1)\n",
    "        location_dict.update(row2)\n",
    "        location_dict.update(row3)\n",
    "        x = []\n",
    "        y = []\n",
    "        for i in seq:\n",
    "            x.append(location_dict[i][0]+0.5)\n",
    "            y.append(location_dict[i][1]+0.5)\n",
    "\n",
    "        plt.figure(figsize=(16,4))\n",
    "        plt.plot(x,y, linewidth=10)\n",
    "\n",
    "        for i in location_dict:\n",
    "            plt.text(location_dict[i][0]+0.5, location_dict[i][1]+0.5, i, fontsize=30, horizontalalignment='center', verticalalignment='center', alpha=0.5)\n",
    "\n",
    "        for i, j in enumerate('thecliff'):\n",
    "            plt.text(i+1+0.5, 0.5, j, fontsize=30, horizontalalignment='center', verticalalignment='center')\n",
    "\n",
    "        plt.xlim(0,1)\n",
    "        plt.ylim(0,4)\n",
    "        plt.xticks([0,1,2,3,4,5,6,7,8,9,10])\n",
    "        plt.yticks([0,1,2,3,4])\n",
    "        plt.grid()\n",
    "        plt.show()"
   ]
  },
  {
   "cell_type": "markdown",
   "metadata": {},
   "source": [
    "## Agent 类"
   ]
  },
  {
   "cell_type": "code",
   "execution_count": 247,
   "metadata": {},
   "outputs": [],
   "source": [
    "class Agent():\n",
    "    def __init__(self):\n",
    "        self.action = {0:'up', 1:'down', 2:'left', 3:'right'}\n",
    "        self.Q = {0:{0:0, 1:0, 2:0, 3:0}, 32: {0:100, 1:100, 2:100, 3:100}} # 初始化结束状态的 Q 函数\n",
    "    \n",
    "    \n",
    "    # 根据环境作出行为action\n",
    "    def get_action(self, state, e_greedy=False, e=0.8):\n",
    "        if state not in self.Q:\n",
    "            self.init_Q(state)\n",
    "        \n",
    "        if e_greedy:\n",
    "            p = self.get_egreedy_policy(state, e)\n",
    "            action = np.random.choice(list(self.action.keys()), p=p)\n",
    "        else:\n",
    "            action = self.get_max_Q_action(state)\n",
    "        return action\n",
    "    \n",
    "    \n",
    "    # sarsa TD 方法更新 Q_table\n",
    "    def sarsa_TD_update(self, current_state, current_action, reward, next_state, next_action, alpha, gamma):\n",
    "        \n",
    "        # 如果没有 Q 函数则初始化\n",
    "        if not current_state in self.Q:\n",
    "            self.init_Q(current_state)\n",
    "            \n",
    "        if not next_state in self.Q:\n",
    "            self.init_Q(next_state)\n",
    "            \n",
    "        TD_error = reward + gamma * self.Q[next_state][next_action] - self.Q[current_state][current_action]\n",
    "        self.Q[current_state][current_action] = self.Q[current_state][current_action] + alpha * TD_error\n",
    "    \n",
    "    \n",
    "    # GILE Monte-Carlo 方法更新 Q_table\n",
    "    def GILE_MC_update(self, episode_seq, action_seq, reward_seq, gamma):\n",
    "        # 初始化 N  \n",
    "        N = {0:{0:0, 1:0, 2:0, 3:0}, 32: {0:0, 1:0, 2:0, 3:0}}\n",
    "        for idx, (state, action) in enumerate(zip(episode_seq, action_seq)):\n",
    "            if state not in N:\n",
    "                N[state] = {0:0, 1:0, 2:0, 3:0}\n",
    "            \n",
    "            N[state][action] += 1\n",
    "            \n",
    "            # 计算Gt\n",
    "            Gt = reward_seq[idx]\n",
    "            current_gamma = gamma\n",
    "            for reward in reward_seq[idx+1:]:\n",
    "                Gt += current_gamma * reward\n",
    "                current_gamma = current_gamma * gamma\n",
    "            \n",
    "            # Q_table 更新\n",
    "            self.Q[state][action] = self.Q[state][action] + 1 / N[state][action] * (Gt - self.Q[state][action])\n",
    "        \n",
    "    # Q-Learing 方法更新 Q_table\n",
    "    def Q_learning_update(self, current_state, current_action, reward, next_state, alpha, gamma):\n",
    "        \n",
    "        # 如果没有 Q 函数则初始化\n",
    "        if not current_state in self.Q:\n",
    "            self.init_Q(current_state)\n",
    "            \n",
    "        if not next_state in self.Q:\n",
    "            self.init_Q(next_state) \n",
    "        \n",
    "        # 获取下一状态最大 action 的 value\n",
    "        max_value_action = self.get_max_Q_action(next_state)\n",
    "        mxx_value = self.Q[next_state][max_value_action]\n",
    "        \n",
    "        # 更新公式\n",
    "        TD_error = reward + gamma * mxx_value - self.Q[current_state][current_action]\n",
    "        self.Q[current_state][current_action] = self.Q[current_state][current_action] + alpha * TD_error\n",
    "    \n",
    "    \n",
    "    # 展示训练结果\n",
    "    def solve(self, envirement):\n",
    "        # 训练结果\n",
    "        current_state = envirement.start \n",
    "        current_action = self.get_action(current_state, e_greedy=False) \n",
    "\n",
    "        seq = [current_state]\n",
    "\n",
    "        while current_state != envirement.end:\n",
    "            print('{} -> '.format(current_state), end='')\n",
    "            next_state = envirement.sample_one_step(current_state, current_action)\n",
    "            next_action = self.get_action(next_state, e_greedy=False) \n",
    "            seq.append(next_state)\n",
    "\n",
    "            # 进入下一个step\n",
    "            current_state = next_state\n",
    "            current_action = next_action\n",
    "\n",
    "        print(seq[-1])\n",
    "        return seq\n",
    "    \n",
    "    \n",
    "    # 初始化Q\n",
    "    def init_Q(self, state):\n",
    "        self.Q[state] = {0:0, 1:0, 2:0, 3:0}\n",
    "    \n",
    "    \n",
    "    # 获取 e-greedy 的策略概率\n",
    "    def get_egreedy_policy(self, state, e):\n",
    "        p = (np.ones(shape=len(self.action)) / len(self.action)) * e\n",
    "        \n",
    "        max_action_value = -float('inf')\n",
    "        for idx, action in enumerate(self.Q[state]):\n",
    "            if self.Q[state][action] > max_action_value:\n",
    "                max_action_value = self.Q[state][action]\n",
    "                max_action_idx = idx\n",
    "\n",
    "        p[max_action_idx] += 1 - e\n",
    "        return p\n",
    "    \n",
    "    \n",
    "    # 获取 Q_value 最大的 action\n",
    "    def get_max_Q_action(self, state):\n",
    "        max_q_value = -float('inf')\n",
    "        \n",
    "        for action in self.Q[state]:\n",
    "            if self.Q[state][action] > max_q_value:\n",
    "                max_q_value = self.Q[state][action]\n",
    "                optimal_action = action\n",
    "        \n",
    "        return optimal_action"
   ]
  },
  {
   "cell_type": "markdown",
   "metadata": {},
   "source": [
    "## On-Policy"
   ]
  },
  {
   "cell_type": "markdown",
   "metadata": {},
   "source": [
    "### GLIE Monte-Carlo (MC)\n",
    "\n",
    "$Q(S_t,A_t) \\leftarrow Q(S_t,A_t)+\\frac{1}{N(S_t,A_t)}(G_t-Q(S_t,A_t))$"
   ]
  },
  {
   "cell_type": "code",
   "execution_count": 274,
   "metadata": {},
   "outputs": [
    {
     "name": "stdout",
     "output_type": "stream",
     "text": [
      "0 -> 21 -> 11 -> 12 -> 13 -> 3 -> 4 -> 5 -> 6 -> 7 -> 8 -> 9 -> 10 -> 20 -> 30 -> 32\n"
     ]
    },
    {
     "data": {
      "image/png": "[encoded data removed]",
      "text/plain": [
       "<Figure size 1152x288 with 1 Axes>"
      ]
     },
     "metadata": {
      "needs_background": "light"
     },
     "output_type": "display_data"
    }
   ],
   "source": [
    "# 初始化 agent 和 envirement\n",
    "agent = Agent()\n",
    "envirement = Envirement(0, 32, R, S)\n",
    "\n",
    "# 超参数\n",
    "epoch = 500\n",
    "k = 1\n",
    "e = 1\n",
    "gamma = 0.9\n",
    "\n",
    "for i in range(epoch):\n",
    "    # MCTS 采样\n",
    "    current_state = envirement.start # 初始化第一个状态\n",
    "    current_action = agent.get_action(current_state, e_greedy=True, e=e) # 根据 envirement 的 state 状态作出 action egreedy方式\n",
    "\n",
    "    # 记录采样序列\n",
    "    episode_seq = [current_state]\n",
    "    action_seq = [current_action]\n",
    "    reward_seq = [envirement.reward[current_state]]\n",
    "\n",
    "    # 采样一个完整序列\n",
    "    while current_state != envirement.end:\n",
    "\n",
    "        next_state = envirement.sample_one_step(current_state, current_action)\n",
    "        next_reward = envirement.reward[next_state]\n",
    "        next_action = agent.get_action(next_state, e_greedy=True, e=e)     \n",
    "\n",
    "        episode_seq.append(next_state)\n",
    "        action_seq.append(next_action)\n",
    "        reward_seq.append(next_reward)\n",
    "\n",
    "        current_state = next_state\n",
    "        current_action = next_action\n",
    "        \n",
    "        # 防止进入死循环\n",
    "        if len(episode_seq)  > 5000:\n",
    "            break\n",
    "\n",
    "    # GILE Monte-Carlo 更新\n",
    "    agent.GILE_MC_update(episode_seq, action_seq, reward_seq, gamma)\n",
    "\n",
    "    k += 0.1\n",
    "    e = 1 / k\n",
    "    print(i+1, end='\\r', flush=True)\n",
    "    \n",
    "# 结果\n",
    "envirement.show_path((agent.solve(envirement)))"
   ]
  },
  {
   "cell_type": "markdown",
   "metadata": {},
   "source": [
    "# Sarsa Algorithm (TD)\n",
    "\n",
    "$Q(S,A) \\leftarrow Q(S,A)+\\alpha(R+\\gamma Q(S^{\\prime},A^{\\prime})-Q(S,A))$\n",
    "\n",
    "Sarsa TD 的方法需要一个五元组 $(S,A,R,S^{\\prime},A^{\\prime},)$"
   ]
  },
  {
   "cell_type": "code",
   "execution_count": 273,
   "metadata": {},
   "outputs": [
    {
     "name": "stdout",
     "output_type": "stream",
     "text": [
      "0 -> 21 -> 22 -> 12 -> 2 -> 3 -> 4 -> 14 -> 15 -> 5 -> 6 -> 7 -> 8 -> 9 -> 10 -> 20 -> 30 -> 32\n"
     ]
    },
    {
     "data": {
      "image/png": "[encoded data removed]",
      "text/plain": [
       "<Figure size 1152x288 with 1 Axes>"
      ]
     },
     "metadata": {
      "needs_background": "light"
     },
     "output_type": "display_data"
    }
   ],
   "source": [
    "# 初始化 agent 和 envirement\n",
    "agent = Agent()\n",
    "envirement = Envirement(0, 32, R, S)\n",
    "\n",
    "# 超参数\n",
    "epoch = 500\n",
    "k = 1\n",
    "e = 1\n",
    "alpha = 0.9\n",
    "gamma = 0.9\n",
    "\n",
    "# 训练\n",
    "for i in range(epoch):\n",
    "    \n",
    "    # MCTS 采样\n",
    "    current_state = envirement.start # 初始化第一个状态\n",
    "    current_action = agent.get_action(current_state, e_greedy=True, e=e) # 根据 envirement 的 state 状态作出 action egreedy方式\n",
    "    \n",
    "    step = 0\n",
    "    while current_state != envirement.end:\n",
    "\n",
    "        # 获取五元组另外三个元素\n",
    "        reward = envirement.reward[current_state]  # 当前状态的 reward\n",
    "        next_state = envirement.sample_one_step(current_state, current_action) # 根据 agent 的 action 给出下一个 state\n",
    "        next_action = agent.get_action(next_state, e_greedy=True, e=e) # 根据下一个 state 给出 下一个 state 的 action\n",
    "\n",
    "        # saras TD 进行 Q函数更新\n",
    "        agent.sarsa_TD_update(current_state, current_action, reward, next_state, next_action, alpha, gamma)\n",
    "\n",
    "        # 进入下一个step\n",
    "        current_state = next_state\n",
    "        current_action = next_action\n",
    "        \n",
    "        if step > 5000:\n",
    "            break\n",
    "        step += 1\n",
    "\n",
    "    k += 0.1   \n",
    "    e = 1 / k\n",
    "    print(i+1, end='\\r', flush=True)\n",
    "    \n",
    "# 结果\n",
    "envirement.show_path((agent.solve(envirement)))"
   ]
  },
  {
   "cell_type": "markdown",
   "metadata": {},
   "source": [
    "### Q-Learing\n",
    "\n",
    "$Q(S,A) \\leftarrow Q(S,A)+\\alpha(r+\\gamma argmax_{a^{\\prime}}Q(S^{\\prime},A^{\\prime})-Q(S,A))$"
   ]
  },
  {
   "cell_type": "code",
   "execution_count": 272,
   "metadata": {},
   "outputs": [
    {
     "name": "stdout",
     "output_type": "stream",
     "text": [
      "0 -> 21 -> 22 -> 23 -> 24 -> 25 -> 26 -> 27 -> 28 -> 29 -> 30 -> 32\n"
     ]
    },
    {
     "data": {
      "image/png": "[encoded data removed]",
      "text/plain": [
       "<Figure size 1152x288 with 1 Axes>"
      ]
     },
     "metadata": {
      "needs_background": "light"
     },
     "output_type": "display_data"
    }
   ],
   "source": [
    "# 初始化 agent 和 envirement\n",
    "agent = Agent()\n",
    "envirement = Envirement(0, 32, R, S)\n",
    "\n",
    "# 超参数\n",
    "epoch = 500\n",
    "k = 1\n",
    "e = 1\n",
    "alpha = 0.9\n",
    "gamma = 0.9\n",
    "\n",
    "# 训练\n",
    "for i in range(epoch):\n",
    "    \n",
    "    # MCTS 采样\n",
    "    current_state = envirement.start # 初始化第一个状态\n",
    "    current_action = agent.get_action(current_state, e_greedy=True, e=e) # 根据 envirement 的 state 状态作出 action egreedy方式\n",
    "    \n",
    "    step = 0\n",
    "    while current_state != envirement.end:\n",
    "\n",
    "        reward = envirement.reward[current_state]  # 当前状态的 reward\n",
    "        next_state = envirement.sample_one_step(current_state, current_action) # 根据 agent 的 action 给出下一个 state\n",
    "        next_action = agent.get_action(next_state, e_greedy=True, e=e) # 根据下一个 state 给出 下一个 state 的 action\n",
    "\n",
    "        # Q_learning 进行 Q函数更新\n",
    "        agent.Q_learning_update(current_state, current_action, reward, next_state, alpha, gamma)\n",
    "\n",
    "        # 进入下一个step\n",
    "        current_state = next_state\n",
    "        current_action = next_action\n",
    "        \n",
    "        if step > 5000:\n",
    "            break\n",
    "        step += 1\n",
    "\n",
    "    k += 0.1   \n",
    "    e = 1 / k\n",
    "    print(i+1, end='\\r', flush=True)\n",
    "    \n",
    "# 结果\n",
    "envirement.show_path((agent.solve(envirement)))"
   ]
  },
  {
   "cell_type": "markdown",
   "metadata": {},
   "source": [
    "## Off-Policy"
   ]
  },
  {
   "cell_type": "code",
   "execution_count": null,
   "metadata": {},
   "outputs": [],
   "source": []
  }
 ],
 "metadata": {
  "kernelspec": {
   "display_name": "Python 3",
   "language": "python",
   "name": "python3"
  },
  "language_info": {
   "codemirror_mode": {
    "name": "ipython",
    "version": 3
   },
   "file_extension": ".py",
   "mimetype": "text/x-python",
   "name": "python",
   "nbconvert_exporter": "python",
   "pygments_lexer": "ipython3",
   "version": "3.7.6"
  }
 },
 "nbformat": 4,
 "nbformat_minor": 4
}
