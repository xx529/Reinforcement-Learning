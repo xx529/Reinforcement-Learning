{
  "nbformat": 4,
  "nbformat_minor": 0,
  "metadata": {
    "kernelspec": {
      "display_name": "Python 3",
      "language": "python",
      "name": "python3"
    },
    "language_info": {
      "codemirror_mode": {
        "name": "ipython",
        "version": 3
      },
      "file_extension": ".py",
      "mimetype": "text/x-python",
      "name": "python",
      "nbconvert_exporter": "python",
      "pygments_lexer": "ipython3",
      "version": "3.7.6"
    },
    "colab": {
      "name": "policy iteration  & value iteration.ipynb",
      "provenance": [],
      "toc_visible": true
    }
  },
  "cells": [
    {
      "cell_type": "markdown",
      "metadata": {
        "id": "rhiPz5ciW0M-"
      },
      "source": [
        "# 计算寻路小游戏各状态 Value Function\n",
        "\n",
        "1. 红色各自初始位置\n",
        "2. 黑色点获得奖励-10\n",
        "3. 黄色点获得奖励100\n",
        "4. 每个状态的向4各方向的转移概率相同，假设不会撞墙\n",
        "\n",
        "![title](https://github.com/xx529/Reinforcement-Learning/blob/main/Policy%20Iteration%20%26%20Value%20Iteration/WechatIMG1201.png?raw=1)\n",
        "![1.png](data:image/png;base64,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)"
      ]
    },
    {
      "cell_type": "code",
      "metadata": {
        "id": "Fh9vUczGW0NA"
      },
      "source": [
        "import numpy as np"
      ],
      "execution_count": null,
      "outputs": []
    },
    {
      "cell_type": "code",
      "metadata": {
        "scrolled": true,
        "id": "JYDG1cDwW0NA",
        "outputId": "49975fd3-04c1-436b-8649-55d1e1bfa96d"
      },
      "source": [
        "# 状态转移矩阵\n",
        "S = np.array([\n",
        "       [0, 1/2, 0., 0., 0., 1/2, 0., 0., 0., 0., 0., 0., 0., 0., 0., 0.], #1\n",
        "       [1/3, 0, 1/3, 0., 0., 1/3, 0., 0., 0., 0., 0., 0., 0., 0., 0., 0.], #2\n",
        "       [0., 1/3, 0, 1/3, 0., 0., 1/3, 0., 0., 0., 0., 0., 0., 0., 0., 0.], #3\n",
        "       [0., 0., 1/2, 0, 0., 0., 0., 1/2, 0., 0., 0., 0., 0., 0., 0., 0.], #4\n",
        "       [1/3, 0., 0., 0., 0, 1/3, 0., 0., 1/3, 0., 0., 0., 0., 0., 0., 0.], #5\n",
        "       [0., 1/4, 0., 0., 1/4, 0., 1/4, 0., 0., 1/4, 0., 0., 0., 0., 0., 0.], #6\n",
        "       [0., 0., 0., 0., 0., 0., 1, 0., 0., 0., 0., 0., 0., 0., 0., 0.], ##7 \n",
        "       [0., 0., 0., 1/3, 0., 0., 1/3, 0, 0., 0., 0., 1/3, 0., 0., 0., 0.], #8\n",
        "       [0., 0., 0., 0., 1/3, 0., 0., 0., 0, 1/3, 0., 0., 1/3, 0., 0., 0.], #9\n",
        "       [0., 0., 0., 0., 0., 0., 0., 0., 0., 1, 0., 0., 0., 0., 0., 0.], ##10\n",
        "       [0., 0., 0., 0., 0., 0., 1/4, 0., 0., 1/4, 0., 1/4, 0., 0., 1/4, 0.], #11\n",
        "       [0., 0., 0., 0., 0., 0., 0., 1/3, 0., 0., 1/3, 0, 0., 0., 0., 1/3], #12\n",
        "       [0., 0., 0., 0., 0., 0., 0., 0., 1/2, 0., 0., 0., 0, 1/2, 0., 0.], #13\n",
        "       [0., 0., 0., 0., 0., 0., 0., 0., 0., 1/3, 0., 0., 1/3, 0, 1/3, 0.], #14\n",
        "       [0., 0., 0., 0., 0., 0., 0., 0., 0., 0., 1/3, 0., 0., 1/3, 0, 1/3], #15\n",
        "       [0., 0., 0., 0., 0., 0., 0., 0., 0., 0., 0., 1/2, 0., 0., 1/2, 0], #16\n",
        "])\n",
        "\n",
        "\n",
        "# 状态奖励\n",
        "R = np.array([-1, -1, -1, -1, -1, -1, -10, -1, -1, -10, 100, -1, -1, -1, -1, -1])\n",
        "\n",
        "# 衰减因子\n",
        "gamma = 0.8\n",
        "\n",
        "# 阈值更新\n",
        "threshold = 0.0001\n",
        "\n",
        "# 迭代计算\n",
        "V_init = np.ones(16)\n",
        "V = np.zeros(16)\n",
        "\n",
        "while abs((V_init - V).sum()) > threshold:\n",
        "    V = V_init\n",
        "    V_init = R + gamma * np.dot(V, S.T)\n",
        "    \n",
        "np.round(V, 2).reshape(4,4)"
      ],
      "execution_count": null,
      "outputs": [
        {
          "output_type": "execute_result",
          "data": {
            "text/plain": [
              "array([[-21.07, -20.83, -23.97, -15.3 ],\n",
              "       [-20.83, -29.33, -50.  , -11.77],\n",
              "       [-23.97, -50.  ,  89.96,  24.89],\n",
              "       [-15.3 , -11.77,  24.89,  18.91]])"
            ]
          },
          "metadata": {
            "tags": []
          },
          "execution_count": 2
        }
      ]
    },
    {
      "cell_type": "markdown",
      "metadata": {
        "id": "953H6dWWW0NB"
      },
      "source": [
        "# 策略迭代与价值迭代\n",
        "\n",
        "1. 红色为起始点\n",
        "2. 黑色为惩罚点，获得-10奖励\n",
        "3. 黄色为目标点，获得100的奖励\n",
        "4. 撞墙的状态奖励设置为-5，撞墙状态所有action回到自身\n",
        "5. 每个状态均有上下左右4种action\n",
        "    1. 边缘状态遇到撞墙action则回到自己状态\n",
        "    2. 黄色，黑色点只有所有action均回到自身\n",
        "    3. 其他点对应4个action均到达相应指向的状态 $p(s^{\\prime}|a)=1$\n",
        "\n",
        "\n",
        "![title](https://github.com/xx529/Reinforcement-Learning/blob/main/Policy%20Iteration%20%26%20Value%20Iteration/WX20201126-003224.png?raw=1)"
      ]
    },
    {
      "cell_type": "markdown",
      "metadata": {
        "id": "v2WE6fEcW0NC"
      },
      "source": [
        "## 定义变量"
      ]
    },
    {
      "cell_type": "code",
      "metadata": {
        "id": "Rv-cl4jFW0NC",
        "outputId": "18b96e81-db79-477f-e119-c2861d8cb5d4"
      },
      "source": [
        "# envirement\n",
        "S = np.arange(0, 17)\n",
        "S"
      ],
      "execution_count": null,
      "outputs": [
        {
          "output_type": "execute_result",
          "data": {
            "text/plain": [
              "array([ 0,  1,  2,  3,  4,  5,  6,  7,  8,  9, 10, 11, 12, 13, 14, 15, 16])"
            ]
          },
          "metadata": {
            "tags": []
          },
          "execution_count": 3
        }
      ]
    },
    {
      "cell_type": "code",
      "metadata": {
        "id": "U5JN4s29W0ND",
        "outputId": "0a3fd465-6043-4769-e40a-ad6ea6fff5ba"
      },
      "source": [
        "# 每个 state 的状态价值初始化\n",
        "V = np.zeros(17)\n",
        "V"
      ],
      "execution_count": null,
      "outputs": [
        {
          "output_type": "execute_result",
          "data": {
            "text/plain": [
              "array([0., 0., 0., 0., 0., 0., 0., 0., 0., 0., 0., 0., 0., 0., 0., 0., 0.])"
            ]
          },
          "metadata": {
            "tags": []
          },
          "execution_count": 4
        }
      ]
    },
    {
      "cell_type": "code",
      "metadata": {
        "id": "ghkA9erqW0ND",
        "outputId": "240e50d6-ba36-43b3-d0ff-07e8ac18b6f9"
      },
      "source": [
        "# 每个 state 的 reward\n",
        "R = np.zeros(17)\n",
        "R[0] = -5\n",
        "R[[7, 10]] = -10\n",
        "R[11] = 100\n",
        "R"
      ],
      "execution_count": null,
      "outputs": [
        {
          "output_type": "execute_result",
          "data": {
            "text/plain": [
              "array([ -5.,   0.,   0.,   0.,   0.,   0.,   0., -10.,   0.,   0., -10.,\n",
              "       100.,   0.,   0.,   0.,   0.,   0.])"
            ]
          },
          "metadata": {
            "tags": []
          },
          "execution_count": 5
        }
      ]
    },
    {
      "cell_type": "code",
      "metadata": {
        "id": "ysYLgxF3W0ND",
        "outputId": "d94ec186-92a7-4188-a9b8-2a950119376f"
      },
      "source": [
        "# 每个 state 的 policy，横 -> 上下左右，纵 -> state，值 -> acion 对应的概率，均等初始化\n",
        "P = np.ones(shape=(17, 4)) / 4\n",
        "P"
      ],
      "execution_count": null,
      "outputs": [
        {
          "output_type": "execute_result",
          "data": {
            "text/plain": [
              "array([[0.25, 0.25, 0.25, 0.25],\n",
              "       [0.25, 0.25, 0.25, 0.25],\n",
              "       [0.25, 0.25, 0.25, 0.25],\n",
              "       [0.25, 0.25, 0.25, 0.25],\n",
              "       [0.25, 0.25, 0.25, 0.25],\n",
              "       [0.25, 0.25, 0.25, 0.25],\n",
              "       [0.25, 0.25, 0.25, 0.25],\n",
              "       [0.25, 0.25, 0.25, 0.25],\n",
              "       [0.25, 0.25, 0.25, 0.25],\n",
              "       [0.25, 0.25, 0.25, 0.25],\n",
              "       [0.25, 0.25, 0.25, 0.25],\n",
              "       [0.25, 0.25, 0.25, 0.25],\n",
              "       [0.25, 0.25, 0.25, 0.25],\n",
              "       [0.25, 0.25, 0.25, 0.25],\n",
              "       [0.25, 0.25, 0.25, 0.25],\n",
              "       [0.25, 0.25, 0.25, 0.25],\n",
              "       [0.25, 0.25, 0.25, 0.25]])"
            ]
          },
          "metadata": {
            "tags": []
          },
          "execution_count": 6
        }
      ]
    },
    {
      "cell_type": "code",
      "metadata": {
        "id": "aCvc-HG8W0NE"
      },
      "source": [
        "# 每个 state 的 action(上下左右) 对应的下一个 state 的\n",
        "A = np.array([\n",
        "       [0, 0, 0, 0], # 0\n",
        "       [0, 5, 1, 2],\n",
        "       [0, 6, 1, 3],\n",
        "       [0, 7, 2, 4],\n",
        "       [0, 8, 3, 4],\n",
        "       [1, 9, 0, 6],\n",
        "       [2, 10,5, 7],\n",
        "       [7, 7, 7, 7], # 7\n",
        "       [4, 12,7, 0],\n",
        "       [5, 13,0, 10],\n",
        "       [10,10,10,10],# 10\n",
        "       [11,11,11,11],# 11\n",
        "       [8, 16,11,0],\n",
        "       [9, 0, 0,14],\n",
        "       [10,0 ,13,15],\n",
        "       [11,0 ,14,16],\n",
        "       [12,0 ,15, 0]\n",
        "])"
      ],
      "execution_count": null,
      "outputs": []
    },
    {
      "cell_type": "code",
      "metadata": {
        "id": "jzZGU6qqW0NE"
      },
      "source": [
        "def get_mdp():\n",
        "    S = np.arange(0, 17)\n",
        "    V = np.zeros(17)\n",
        "    R = np.zeros(17)\n",
        "    R[0] = -1000\n",
        "    R[[7, 10]] = -500\n",
        "    R[11] = 999\n",
        "    P = np.ones(shape=(17, 4)) / 4\n",
        "    A = np.array([\n",
        "       [0, 0, 0, 0], # 0\n",
        "       [0, 5, 0, 2], # 1\n",
        "       [0, 6, 1, 3], # 2\n",
        "       [0, 7, 2, 4], # 3\n",
        "       [0, 8, 3, 0], # 4\n",
        "       [1, 9, 0, 6], # 5\n",
        "       [2, 10,5, 7], # 6\n",
        "       [7, 7, 7, 7], # 7\n",
        "       [4, 12,7, 0], # 8\n",
        "       [5, 13,0, 10],# 9\n",
        "       [10,10,10,10],# 10\n",
        "       [11,11,11,11],# 11\n",
        "       [8, 16,11,0], # 12\n",
        "       [9, 0, 0,14], # 13\n",
        "       [10,0 ,13,15],# 14\n",
        "       [11,0 ,14,16],# 15\n",
        "       [12,0 ,15, 0] # 16\n",
        "    ])\n",
        "    return S, V, R, P, A"
      ],
      "execution_count": null,
      "outputs": []
    },
    {
      "cell_type": "markdown",
      "metadata": {
        "id": "VkUNIerlW0NF"
      },
      "source": [
        "## 策略评估与策略提升"
      ]
    },
    {
      "cell_type": "code",
      "metadata": {
        "id": "o2BGMWU0W0NF"
      },
      "source": [
        "def policy_evaluation(env, value, reward, policy, action, gamma):\n",
        "    new_value = value.copy()\n",
        "    for s in env:\n",
        "        Gt = reward[s]\n",
        "        for a, p in zip(action[s], policy[s]):\n",
        "            Gt += value[a] * p * gamma\n",
        "        new_value[s] = Gt\n",
        "    return new_value\n",
        "\n",
        "def policy_improvement(env, value, reward, policy, action):\n",
        "    new_policy = policy.copy()\n",
        "    for s in env:\n",
        "        action_value = []\n",
        "        for a, p in zip(action[s], policy[s]):\n",
        "            action_value.append(value[a] * p)\n",
        "        \n",
        "        max_value = np.array(action_value).max()\n",
        "        max_value_idx = []\n",
        "        \n",
        "        for i, v in enumerate(action_value):\n",
        "            if v == max_value:\n",
        "                max_value_idx.append(i)\n",
        "            else:\n",
        "                action_value[i] = 0\n",
        "        action_value_array = np.array(action_value)\n",
        "        action_value_array[max_value_idx] = 1 / len(max_value_idx)\n",
        "        new_policy[s] = action_value_array\n",
        "    return new_policy"
      ],
      "execution_count": null,
      "outputs": []
    },
    {
      "cell_type": "markdown",
      "metadata": {
        "id": "_OLiNNyCW0NF"
      },
      "source": [
        "## 策略迭代\n",
        "\n",
        "1. $v(s)$ 到收敛\n",
        "2. $\\pi(s)$ 迭代一次"
      ]
    },
    {
      "cell_type": "code",
      "metadata": {
        "scrolled": false,
        "id": "tevATlkHW0NG"
      },
      "source": [
        "def poliy_iteration(env, value, reward, policy, action, gamma, threshold):\n",
        "    policy_last = np.zeros(shape=policy.shape)\n",
        "    \n",
        "    while not (policy_last == policy).all():\n",
        "        policy_last = policy.copy()\n",
        "        \n",
        "        # 策略评估到 value function 收敛\n",
        "        value_last = np.ones(shape=value.shape)\n",
        "        while  np.abs(value_last - value).mean() > threshold:\n",
        "            value_last = value.copy()\n",
        "            value = policy_evaluation(env, value, reward, policy, action, gamma)\n",
        "        \n",
        "        # 更新策略最价值最大的 action\n",
        "        policy = policy_improvement(env, value, reward, policy, action)\n",
        "    return policy"
      ],
      "execution_count": null,
      "outputs": []
    },
    {
      "cell_type": "code",
      "metadata": {
        "id": "jQUmO9GvW0NG",
        "outputId": "97d7de72-a366-4ac0-97b2-63d0eb4f3bdd"
      },
      "source": [
        "S, V, R, P, A = get_mdp()\n",
        "policy_iteration_optimal_policy = poliy_iteration(S, V, R, P, A, 0.8, 0.00001)[1:]\n",
        "policy_iteration_optimal_policy"
      ],
      "execution_count": null,
      "outputs": [
        {
          "output_type": "execute_result",
          "data": {
            "text/plain": [
              "array([[0.  , 0.5 , 0.  , 0.5 ],\n",
              "       [0.  , 0.  , 0.  , 1.  ],\n",
              "       [0.  , 0.  , 0.  , 1.  ],\n",
              "       [0.  , 1.  , 0.  , 0.  ],\n",
              "       [0.  , 1.  , 0.  , 0.  ],\n",
              "       [0.5 , 0.  , 0.5 , 0.  ],\n",
              "       [0.25, 0.25, 0.25, 0.25],\n",
              "       [0.  , 1.  , 0.  , 0.  ],\n",
              "       [0.  , 1.  , 0.  , 0.  ],\n",
              "       [0.25, 0.25, 0.25, 0.25],\n",
              "       [0.25, 0.25, 0.25, 0.25],\n",
              "       [0.  , 0.  , 1.  , 0.  ],\n",
              "       [0.  , 0.  , 0.  , 1.  ],\n",
              "       [0.  , 0.  , 0.  , 1.  ],\n",
              "       [1.  , 0.  , 0.  , 0.  ],\n",
              "       [0.5 , 0.  , 0.5 , 0.  ]])"
            ]
          },
          "metadata": {
            "tags": []
          },
          "execution_count": 11
        }
      ]
    },
    {
      "cell_type": "markdown",
      "metadata": {
        "id": "6pgJKl4aW0NG"
      },
      "source": [
        "## 价值迭代\n",
        "\n",
        "1. 当前最大的 $\\pi(s)$ 迭代一次求得 $v(s)$\n",
        "2. 最大的 $v(s)$ 与当前 $v(s)$ 相差计算\n",
        "3. 直到阈值到收敛"
      ]
    },
    {
      "cell_type": "code",
      "metadata": {
        "id": "tQNG3eITW0NH"
      },
      "source": [
        "def get_current_max_policy_value_function(env, value, reward, policy, action, gamma):\n",
        "    new_value = value.copy()\n",
        "    for s in env:\n",
        "        max_Gt = -float('inf')\n",
        "        for a, p in zip(action[s], policy[s]):\n",
        "            Gt_a = p * (reward[a] + gamma * value[a])\n",
        "            if Gt_a > max_Gt:\n",
        "                max_Gt = Gt_a\n",
        "        new_value[s] = max_Gt\n",
        "    return new_value\n",
        "\n",
        "def value_iteration(env, value, reward, policy, action, gamma, threshold):\n",
        "    value_temp = np.ones(shape=value.shape)\n",
        "    \n",
        "    while np.abs(value_temp - value).mean() > threshold:\n",
        "        value_temp = value.copy()\n",
        "        value = get_current_max_policy_value_function(env, value_temp, reward, policy, action, gamma)\n",
        "        \n",
        "    optimal_policy = policy_improvement(env, value, reward, policy, action)\n",
        "    return optimal_policy"
      ],
      "execution_count": null,
      "outputs": []
    },
    {
      "cell_type": "code",
      "metadata": {
        "id": "_il1V4dyW0NH",
        "outputId": "16062f69-370d-448e-b1ff-a7600501c324"
      },
      "source": [
        "S, V, R, P, A = get_mdp()\n",
        "value_iteration_optimal_policy = value_iteration(S, V, R, P, A, 0.8, 0.00001)[1:]\n",
        "value_iteration_optimal_policy"
      ],
      "execution_count": null,
      "outputs": [
        {
          "output_type": "execute_result",
          "data": {
            "text/plain": [
              "array([[0.  , 0.5 , 0.  , 0.5 ],\n",
              "       [0.  , 0.  , 0.  , 1.  ],\n",
              "       [0.  , 0.  , 0.  , 1.  ],\n",
              "       [0.  , 1.  , 0.  , 0.  ],\n",
              "       [0.  , 1.  , 0.  , 0.  ],\n",
              "       [0.5 , 0.  , 0.5 , 0.  ],\n",
              "       [0.25, 0.25, 0.25, 0.25],\n",
              "       [0.  , 1.  , 0.  , 0.  ],\n",
              "       [0.  , 1.  , 0.  , 0.  ],\n",
              "       [0.25, 0.25, 0.25, 0.25],\n",
              "       [0.25, 0.25, 0.25, 0.25],\n",
              "       [0.  , 0.  , 1.  , 0.  ],\n",
              "       [0.  , 0.  , 0.  , 1.  ],\n",
              "       [0.  , 0.  , 0.  , 1.  ],\n",
              "       [1.  , 0.  , 0.  , 0.  ],\n",
              "       [0.5 , 0.  , 0.5 , 0.  ]])"
            ]
          },
          "metadata": {
            "tags": []
          },
          "execution_count": 13
        }
      ]
    },
    {
      "cell_type": "markdown",
      "metadata": {
        "id": "9DAC2IlTW0NH"
      },
      "source": [
        "## policy 优化结果\n",
        "\n",
        "![title](结果.png)"
      ]
    },
    {
      "cell_type": "code",
      "metadata": {
        "id": "Iv647ZoVW0NI",
        "outputId": "23d40501-cf39-4f0c-ca05-f37a9745c28f"
      },
      "source": [
        "print('两种迭代方式结果是否一致', (value_iteration_optimal_policy == policy_iteration_optimal_policy).all())"
      ],
      "execution_count": null,
      "outputs": [
        {
          "output_type": "stream",
          "text": [
            "两种迭代方式结果是否一致 True\n"
          ],
          "name": "stdout"
        }
      ]
    }
  ]
}