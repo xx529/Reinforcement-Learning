{
 "cells": [
  {
   "cell_type": "code",
   "execution_count": 120,
   "id": "16660ed5-05cd-4a59-85b1-53953625cedb",
   "metadata": {
    "tags": []
   },
   "outputs": [],
   "source": [
    "import gym\n",
    "import numpy as np\n",
    "import torch\n",
    "from functools import namedtuple\n",
    "import torch.nn as nn\n",
    "import matplotlib.pyplot as plt\n",
    "from tqdm import tqdm"
   ]
  },
  {
   "cell_type": "code",
   "execution_count": 132,
   "id": "4d659b9f-0d8c-4d2f-810b-e7fa1ce85d1e",
   "metadata": {},
   "outputs": [],
   "source": [
    "env = gym.make('CartPole-v0')\n",
    "info = namedtuple('info', ['next_state', 'reward', 'done', 'others'])\n",
    "gamma = 0.8"
   ]
  },
  {
   "cell_type": "code",
   "execution_count": 133,
   "id": "92e85588-b60c-4e2d-8ceb-cd12c5c686f6",
   "metadata": {},
   "outputs": [],
   "source": [
    "class Network(nn.Module):\n",
    "    def __init__(self, ):\n",
    "        super(Network, self).__init__()\n",
    "        self.fc1 = nn.Linear(4, 16)\n",
    "        self.fc2 = nn.Linear(16, 2)\n",
    "        self.relu = nn.ReLU()\n",
    "        self.softmax = nn.Softmax(dim=-1)\n",
    "\n",
    "\n",
    "    def forward(self, x):\n",
    "        x = self.fc1(x)\n",
    "        x = self.relu(x)\n",
    "        x = self.fc2(x)      \n",
    "        out = self.softmax(x)\n",
    "        return out"
   ]
  },
  {
   "cell_type": "code",
   "execution_count": null,
   "id": "db14977f-b374-4790-8c86-f181a6908e96",
   "metadata": {
    "tags": []
   },
   "outputs": [
    {
     "name": "stderr",
     "output_type": "stream",
     "text": [
      " 83%|████████▎ | 8338/10000 [05:14<01:09, 23.85it/s]  "
     ]
    }
   ],
   "source": [
    "test_r_ls = []\n",
    "\n",
    "model = Network()\n",
    "optim = torch.optim.Adam(model.parameters(), lr=1e-3)\n",
    "\n",
    "for i in tqdm(range(10000)):\n",
    "    state_ls = []\n",
    "    reward_ls = []\n",
    "    gt_ls = []\n",
    "    action_ls = []\n",
    "    adv_ls = []\n",
    "\n",
    "    s = env.reset()\n",
    "\n",
    "    while True:\n",
    "        state_ls.append(torch.Tensor(s))\n",
    "        action_ls.append(env.action_space.sample())\n",
    "        message = info(*env.step(action_ls[-1]))\n",
    "        reward_ls.append(message.reward)\n",
    "\n",
    "        if message.done:\n",
    "            break\n",
    "\n",
    "        s = message.next_state\n",
    "\n",
    "    g = 0\n",
    "    for i in reward_ls[::-1]:\n",
    "        g = gamma * g + i\n",
    "        gt_ls.append(g)\n",
    "\n",
    "    gt_ls = gt_ls[::-1]\n",
    "\n",
    "    g_mean = sum(gt_ls) / len(gt_ls)\n",
    "    adv_ls = [x - g_mean for x in gt_ls]\n",
    "\n",
    "    adv_ten = torch.Tensor(adv_ls).view(-1, 1).contiguous()\n",
    "    state_ten = torch.cat(state_ls, dim=0).view(len(state_ls), -1).contiguous()\n",
    "    action_ten = torch.LongTensor(action_ls).view(-1,1).contiguous()\n",
    "\n",
    "    loss = model(state_ten)\n",
    "    loss = torch.gather(loss, -1, action_ten)\n",
    "    loss = -1 * torch.log1p(loss) * adv_ten\n",
    "    loss = loss.sum()\n",
    "\n",
    "    optim.zero_grad()\n",
    "    loss.backward()\n",
    "    optim.step()\n",
    "    \n",
    "    test_r = 0\n",
    "    with torch.no_grad():\n",
    "        s = env.reset()\n",
    "        \n",
    "        while True:\n",
    "            a = model(torch.Tensor(s)).argmax().item()\n",
    "            n_s, r_, done_, _ = env.step(a)\n",
    "            test_r += r_\n",
    "\n",
    "            if done_:\n",
    "                break\n",
    "\n",
    "            s = n_s\n",
    "        \n",
    "    test_r_ls.append(test_r)\n",
    "\n",
    "plt.figure(figsize=(40, 8))\n",
    "plt.plot(test_r_ls)\n",
    "plt.show()"
   ]
  }
 ],
 "metadata": {
  "kernelspec": {
   "display_name": "Python 3",
   "language": "python",
   "name": "python3"
  },
  "language_info": {
   "codemirror_mode": {
    "name": "ipython",
    "version": 3
   },
   "file_extension": ".py",
   "mimetype": "text/x-python",
   "name": "python",
   "nbconvert_exporter": "python",
   "pygments_lexer": "ipython3",
   "version": "3.6.9"
  }
 },
 "nbformat": 4,
 "nbformat_minor": 5
}
