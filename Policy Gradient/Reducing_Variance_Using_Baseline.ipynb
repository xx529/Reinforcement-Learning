{
  "nbformat": 4,
  "nbformat_minor": 0,
  "metadata": {
    "colab": {
      "name": "欢迎使用 Colaboratory",
      "provenance": [],
      "collapsed_sections": [],
      "toc_visible": true,
      "include_colab_link": true
    },
    "kernelspec": {
      "display_name": "Python 3",
      "name": "python3"
    }
  },
  "cells": [
    {
      "cell_type": "markdown",
      "metadata": {
        "id": "view-in-github",
        "colab_type": "text"
      },
      "source": [
        "<a href=\"https://colab.research.google.com/github/xx529/Reinforcement-Learning/blob/main/Policy%20Gradient/Reducing_Variance_Using_Baseline.ipynb\" target=\"_parent\"><img src=\"https://colab.research.google.com/assets/colab-badge.svg\" alt=\"Open In Colab\"/></a>"
      ]
    },
    {
      "cell_type": "markdown",
      "metadata": {
        "id": "JaS_fAlOzQQQ"
      },
      "source": [
        "# Reducing_Variance_Using_Baseline\n",
        "\n",
        "* $\\nabla E_{\\tau\\sim\\pi_{\\theta}}[R]=E_{\\tau}[\\sum_{t=0}^{\\tau-1}G_t \\nabla_{\\theta}log\\pi_{\\theta}(a_t|s_t)]$\n",
        "\n",
        "* 其中 $G_t=\\sum_{t^{\\prime}=t}^{\\tau-1}r_{t^{\\prime}}$ 就是在 $t^{\\prime}$ 时刻的总 reward "
      ]
    },
    {
      "cell_type": "markdown",
      "metadata": {
        "id": "44KMiAkf1n2V"
      },
      "source": [
        "# Agent"
      ]
    },
    {
      "cell_type": "code",
      "metadata": {
        "id": "smxXXbzj2E3Z"
      },
      "source": [
        "import torch.nn as nn\n",
        "import torch\n",
        "\n",
        "class Agent(nn.Module):\n",
        "    def __init__(self, ):\n",
        "        super(Agent, self).__init__()\n",
        "        self.fc1 = nn.Linear(4, 128)\n",
        "        self.fc2 = nn.Linear(128, 2)\n",
        "        self.dropout = nn.Dropout(p=0.8)\n",
        "        self.relu = nn.ReLU()\n",
        "        self.softmax = nn.Softmax(dim=1)\n",
        "\n",
        "        self.save_log_prob = []\n",
        "        \n",
        "    def forward(self, x):\n",
        "        x = self.fc1(x)\n",
        "        x = self.dropout(x)\n",
        "        x = self.relu(x)\n",
        "        x = self.fc2(x)\n",
        "        policy = self.softmax(x)\n",
        "        return policy"
      ],
      "execution_count": 310,
      "outputs": []
    },
    {
      "cell_type": "markdown",
      "metadata": {
        "id": "lVTygoBcBJ9a"
      },
      "source": [
        "# Emulator"
      ]
    },
    {
      "cell_type": "code",
      "metadata": {
        "id": "iytH1XFOBMuj"
      },
      "source": [
        "import gym\n",
        "from torch.distributions import Categorical\n",
        "import numpy as np\n",
        "\n",
        "class Emulator:\n",
        "    def __init__(self, name, gamma=0.9, max_iter=10000):\n",
        "        self.env = gym.make(name)\n",
        "        self.gamma = gamma\n",
        "        self.current_state = None\n",
        "        self.max_iter = max_iter\n",
        "\n",
        "    def do(self, agent):\n",
        "        self.current_state = self.env.reset()\n",
        "        self.reward_seq = []\n",
        "        \n",
        "        done = False\n",
        "        current_iter = 0\n",
        "        while not done and current_iter < self.max_iter:\n",
        "            done = self.step(agent)\n",
        "            current_iter += 1\n",
        "\n",
        "    def step(self, agent):\n",
        "        action_probs = agent(torch.from_numpy(self.current_state).float().unsqueeze(0))\n",
        "        m = Categorical(action_probs)\n",
        "        action = m.sample()\n",
        "        agent.save_log_prob.append(m.log_prob(action))\n",
        "        \n",
        "        self.current_state, reward, done, _ = self.env.step(action.item())\n",
        "        self.reward_seq.append(reward)\n",
        "\n",
        "        return done\n",
        "\n",
        "    def get_Gt(self):\n",
        "        Gt_array = np.zeros_like(self.reward_seq)\n",
        "\n",
        "        current_Gt = 0\n",
        "        for idx, r in enumerate(self.reward_seq[::-1]):\n",
        "            current_Gt = r + self.gamma * current_Gt\n",
        "            Gt_array[-(idx+1)] = current_Gt\n",
        "\n",
        "        Gt_array = Gt_array - Gt_array.mean()\n",
        "        \n",
        "        return Gt_array\n"
      ],
      "execution_count": 311,
      "outputs": []
    },
    {
      "cell_type": "markdown",
      "metadata": {
        "id": "Rz4LsiV9gfDF"
      },
      "source": [
        "# Training"
      ]
    },
    {
      "cell_type": "code",
      "metadata": {
        "colab": {
          "base_uri": "https://localhost:8080/",
          "height": 264
        },
        "id": "dFMac4sv2Hjk",
        "outputId": "91c84d4f-25d7-4d52-ec58-4c8f87d4fc38"
      },
      "source": [
        "from torch import optim\n",
        "import matplotlib.pyplot as plt\n",
        "\n",
        "\n",
        "agent = Agent()\n",
        "emulator = Emulator('CartPole-v1')\n",
        "optimizer = optim.Adam(agent.parameters(), lr=1e-2)\n",
        "reward_list = []\n",
        "\n",
        "stop_threshold = emulator.env.spec.reward_threshold\n",
        "current_threshold = 0\n",
        "\n",
        "while current_threshold < stop_threshold:\n",
        "    \n",
        "    emulator.do(agent)\n",
        "    Gt = emulator.get_Gt()\n",
        "\n",
        "    agent_loss = []\n",
        "    for log_prob, gt in zip(agent.save_log_prob, Gt):\n",
        "        agent_loss.append(-log_prob * gt)\n",
        "\n",
        "    agent_loss = torch.cat(agent_loss).sum()\n",
        "    \n",
        "    optimizer.zero_grad()\n",
        "    agent_loss.backward()\n",
        "    optimizer.step()\n",
        "\n",
        "    agent.save_log_prob = []\n",
        "\n",
        "    total_reward = sum(emulator.reward_seq)\n",
        "    reward_list.append(total_reward)\n",
        "    current_threshold = 0.5 * current_threshold + 0.5 * total_reward\n",
        "\n",
        "plt.plot(reward_list)\n",
        "plt.show()"
      ],
      "execution_count": 312,
      "outputs": [
        {
          "output_type": "display_data",
          "data": {
            "image/png": "[encoded data removed]",
            "text/plain": [
              "<Figure size 432x288 with 1 Axes>"
            ]
          },
          "metadata": {
            "tags": [],
            "needs_background": "light"
          }
        }
      ]
    }
  ]
}